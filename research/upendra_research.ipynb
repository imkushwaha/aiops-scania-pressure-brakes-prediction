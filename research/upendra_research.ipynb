{
 "cells": [
  {
   "cell_type": "code",
   "execution_count": 1,
   "metadata": {},
   "outputs": [],
   "source": [
    "import tarfile\n",
    "import pandas as pd\n",
    "import os \n",
    "import pathlib\n",
    "import zipfile\n",
    "import numpy as np\n",
    "\n",
    "import matplotlib.pyplot as plt\n",
    "import seaborn as sns\n",
    "\n",
    "# ignore warnings\n",
    "import warnings\n",
    "warnings.filterwarnings(\"ignore\")"
   ]
  },
  {
   "cell_type": "code",
   "execution_count": 2,
   "metadata": {},
   "outputs": [],
   "source": [
    "notebook_dir = os.getcwd()\n",
    "root_dir = os.path.join('/home/imkushwaha/' ,\"aiops-scania-pressure-brakes-prediction/\")"
   ]
  },
  {
   "cell_type": "code",
   "execution_count": 3,
   "metadata": {},
   "outputs": [
    {
     "data": {
      "text/plain": [
       "True"
      ]
     },
     "execution_count": 3,
     "metadata": {},
     "output_type": "execute_result"
    }
   ],
   "source": [
    "os.path.exists(root_dir)"
   ]
  },
  {
   "cell_type": "code",
   "execution_count": 4,
   "metadata": {},
   "outputs": [],
   "source": [
    "artifacts_dir = os.path.join(root_dir, \"artifacts\")\n",
    "raw_data_dir = os.path.join(artifacts_dir, \"raw_data_dir\")\n",
    "processed_data_dir = os.path.join(artifacts_dir, \"processed_data_dir\")\n",
    "\n",
    "os.makedirs(raw_data_dir, exist_ok=True)\n",
    "os.makedirs(processed_data_dir, exist_ok=True)"
   ]
  },
  {
   "cell_type": "code",
   "execution_count": 5,
   "metadata": {},
   "outputs": [
    {
     "data": {
      "text/plain": [
       "True"
      ]
     },
     "execution_count": 5,
     "metadata": {},
     "output_type": "execute_result"
    }
   ],
   "source": [
    "data_dir = os.path.join(root_dir, \"data\")\n",
    "zip_file_dir = os.path.join(data_dir, \"archive.zip\")\n",
    "\n",
    "os.path.exists(zip_file_dir)"
   ]
  },
  {
   "cell_type": "code",
   "execution_count": 6,
   "metadata": {},
   "outputs": [],
   "source": [
    "with zipfile.ZipFile(zip_file_dir, 'r') as zip_ref:\n",
    "    zip_ref.extractall(raw_data_dir)"
   ]
  },
  {
   "cell_type": "code",
   "execution_count": 5,
   "metadata": {},
   "outputs": [],
   "source": [
    "train_file = os.path.join(raw_data_dir, \"aps_failure_training_set.csv\")\n",
    "processed_data_file = os.path.join(raw_data_dir, \"aps_failure_training_set_processed_8bit.csv\")"
   ]
  },
  {
   "cell_type": "code",
   "execution_count": 6,
   "metadata": {},
   "outputs": [],
   "source": [
    "train_data = pd.read_csv(train_file)"
   ]
  },
  {
   "attachments": {},
   "cell_type": "markdown",
   "metadata": {},
   "source": [
    "# Data Preprocessing and Feature engineering\n",
    "\n",
    "- We have processed data (provided by their side only !!)\n",
    "- but we try to do preprocessing from our side"
   ]
  },
  {
   "cell_type": "code",
   "execution_count": 8,
   "metadata": {},
   "outputs": [
    {
     "data": {
      "text/html": [
       "<div>\n",
       "<style scoped>\n",
       "    .dataframe tbody tr th:only-of-type {\n",
       "        vertical-align: middle;\n",
       "    }\n",
       "\n",
       "    .dataframe tbody tr th {\n",
       "        vertical-align: top;\n",
       "    }\n",
       "\n",
       "    .dataframe thead th {\n",
       "        text-align: right;\n",
       "    }\n",
       "</style>\n",
       "<table border=\"1\" class=\"dataframe\">\n",
       "  <thead>\n",
       "    <tr style=\"text-align: right;\">\n",
       "      <th></th>\n",
       "      <th>class</th>\n",
       "      <th>aa_000</th>\n",
       "      <th>ab_000</th>\n",
       "      <th>ac_000</th>\n",
       "      <th>ad_000</th>\n",
       "      <th>ae_000</th>\n",
       "      <th>af_000</th>\n",
       "      <th>ag_000</th>\n",
       "      <th>ag_001</th>\n",
       "      <th>ag_002</th>\n",
       "      <th>...</th>\n",
       "      <th>ee_002</th>\n",
       "      <th>ee_003</th>\n",
       "      <th>ee_004</th>\n",
       "      <th>ee_005</th>\n",
       "      <th>ee_006</th>\n",
       "      <th>ee_007</th>\n",
       "      <th>ee_008</th>\n",
       "      <th>ee_009</th>\n",
       "      <th>ef_000</th>\n",
       "      <th>eg_000</th>\n",
       "    </tr>\n",
       "  </thead>\n",
       "  <tbody>\n",
       "    <tr>\n",
       "      <th>6574</th>\n",
       "      <td>neg</td>\n",
       "      <td>29062</td>\n",
       "      <td>na</td>\n",
       "      <td>0</td>\n",
       "      <td>na</td>\n",
       "      <td>0</td>\n",
       "      <td>0</td>\n",
       "      <td>0</td>\n",
       "      <td>0</td>\n",
       "      <td>0</td>\n",
       "      <td>...</td>\n",
       "      <td>306742</td>\n",
       "      <td>170192</td>\n",
       "      <td>358870</td>\n",
       "      <td>296660</td>\n",
       "      <td>125948</td>\n",
       "      <td>28516</td>\n",
       "      <td>18212</td>\n",
       "      <td>2</td>\n",
       "      <td>0</td>\n",
       "      <td>0</td>\n",
       "    </tr>\n",
       "    <tr>\n",
       "      <th>35040</th>\n",
       "      <td>neg</td>\n",
       "      <td>14</td>\n",
       "      <td>na</td>\n",
       "      <td>42</td>\n",
       "      <td>18</td>\n",
       "      <td>0</td>\n",
       "      <td>0</td>\n",
       "      <td>0</td>\n",
       "      <td>0</td>\n",
       "      <td>0</td>\n",
       "      <td>...</td>\n",
       "      <td>218</td>\n",
       "      <td>50</td>\n",
       "      <td>60</td>\n",
       "      <td>14</td>\n",
       "      <td>12</td>\n",
       "      <td>2</td>\n",
       "      <td>0</td>\n",
       "      <td>0</td>\n",
       "      <td>0</td>\n",
       "      <td>0</td>\n",
       "    </tr>\n",
       "    <tr>\n",
       "      <th>16901</th>\n",
       "      <td>neg</td>\n",
       "      <td>243704</td>\n",
       "      <td>na</td>\n",
       "      <td>na</td>\n",
       "      <td>na</td>\n",
       "      <td>na</td>\n",
       "      <td>na</td>\n",
       "      <td>0</td>\n",
       "      <td>0</td>\n",
       "      <td>14710</td>\n",
       "      <td>...</td>\n",
       "      <td>1139008</td>\n",
       "      <td>413496</td>\n",
       "      <td>824870</td>\n",
       "      <td>766788</td>\n",
       "      <td>979250</td>\n",
       "      <td>6064132</td>\n",
       "      <td>86848</td>\n",
       "      <td>0</td>\n",
       "      <td>na</td>\n",
       "      <td>na</td>\n",
       "    </tr>\n",
       "    <tr>\n",
       "      <th>31944</th>\n",
       "      <td>neg</td>\n",
       "      <td>2286</td>\n",
       "      <td>na</td>\n",
       "      <td>34</td>\n",
       "      <td>30</td>\n",
       "      <td>0</td>\n",
       "      <td>0</td>\n",
       "      <td>0</td>\n",
       "      <td>0</td>\n",
       "      <td>0</td>\n",
       "      <td>...</td>\n",
       "      <td>11148</td>\n",
       "      <td>8296</td>\n",
       "      <td>40084</td>\n",
       "      <td>46884</td>\n",
       "      <td>1876</td>\n",
       "      <td>196</td>\n",
       "      <td>96</td>\n",
       "      <td>0</td>\n",
       "      <td>0</td>\n",
       "      <td>0</td>\n",
       "    </tr>\n",
       "    <tr>\n",
       "      <th>40607</th>\n",
       "      <td>neg</td>\n",
       "      <td>6656</td>\n",
       "      <td>na</td>\n",
       "      <td>0</td>\n",
       "      <td>na</td>\n",
       "      <td>0</td>\n",
       "      <td>0</td>\n",
       "      <td>0</td>\n",
       "      <td>0</td>\n",
       "      <td>0</td>\n",
       "      <td>...</td>\n",
       "      <td>24556</td>\n",
       "      <td>12774</td>\n",
       "      <td>51494</td>\n",
       "      <td>208940</td>\n",
       "      <td>5800</td>\n",
       "      <td>1378</td>\n",
       "      <td>272</td>\n",
       "      <td>0</td>\n",
       "      <td>0</td>\n",
       "      <td>0</td>\n",
       "    </tr>\n",
       "  </tbody>\n",
       "</table>\n",
       "<p>5 rows × 171 columns</p>\n",
       "</div>"
      ],
      "text/plain": [
       "      class  aa_000 ab_000 ac_000 ad_000 ae_000 af_000 ag_000 ag_001 ag_002  \\\n",
       "6574    neg   29062     na      0     na      0      0      0      0      0   \n",
       "35040   neg      14     na     42     18      0      0      0      0      0   \n",
       "16901   neg  243704     na     na     na     na     na      0      0  14710   \n",
       "31944   neg    2286     na     34     30      0      0      0      0      0   \n",
       "40607   neg    6656     na      0     na      0      0      0      0      0   \n",
       "\n",
       "       ...   ee_002  ee_003  ee_004  ee_005  ee_006   ee_007 ee_008 ee_009  \\\n",
       "6574   ...   306742  170192  358870  296660  125948    28516  18212      2   \n",
       "35040  ...      218      50      60      14      12        2      0      0   \n",
       "16901  ...  1139008  413496  824870  766788  979250  6064132  86848      0   \n",
       "31944  ...    11148    8296   40084   46884    1876      196     96      0   \n",
       "40607  ...    24556   12774   51494  208940    5800     1378    272      0   \n",
       "\n",
       "      ef_000 eg_000  \n",
       "6574       0      0  \n",
       "35040      0      0  \n",
       "16901     na     na  \n",
       "31944      0      0  \n",
       "40607      0      0  \n",
       "\n",
       "[5 rows x 171 columns]"
      ]
     },
     "execution_count": 8,
     "metadata": {},
     "output_type": "execute_result"
    }
   ],
   "source": [
    "train_data.sample(5)"
   ]
  },
  {
   "cell_type": "code",
   "execution_count": 9,
   "metadata": {},
   "outputs": [
    {
     "data": {
      "text/plain": [
       "(60000, 171)"
      ]
     },
     "execution_count": 9,
     "metadata": {},
     "output_type": "execute_result"
    }
   ],
   "source": [
    "# shape of data\n",
    "train_data.shape"
   ]
  },
  {
   "cell_type": "code",
   "execution_count": 13,
   "metadata": {},
   "outputs": [
    {
     "data": {
      "text/plain": [
       "Index(['class', 'aa_000', 'ab_000', 'ac_000', 'ad_000', 'ae_000', 'af_000',\n",
       "       'ag_000', 'ag_001', 'ag_002',\n",
       "       ...\n",
       "       'ee_002', 'ee_003', 'ee_004', 'ee_005', 'ee_006', 'ee_007', 'ee_008',\n",
       "       'ee_009', 'ef_000', 'eg_000'],\n",
       "      dtype='object', length=171)"
      ]
     },
     "execution_count": 13,
     "metadata": {},
     "output_type": "execute_result"
    }
   ],
   "source": [
    "train_data.columns"
   ]
  },
  {
   "cell_type": "code",
   "execution_count": 16,
   "metadata": {},
   "outputs": [
    {
     "data": {
      "text/plain": [
       "neg    59000\n",
       "pos     1000\n",
       "Name: class, dtype: int64"
      ]
     },
     "execution_count": 16,
     "metadata": {},
     "output_type": "execute_result"
    }
   ],
   "source": [
    "train_data[\"class\"].value_counts()"
   ]
  },
  {
   "attachments": {},
   "cell_type": "markdown",
   "metadata": {},
   "source": [
    "##### Highly imbalanced data:\n",
    "- negative class: 59k\n",
    "- pos class: 1k\n"
   ]
  },
  {
   "cell_type": "code",
   "execution_count": 17,
   "metadata": {},
   "outputs": [
    {
     "data": {
      "text/plain": [
       "class     object\n",
       "aa_000     int64\n",
       "ab_000    object\n",
       "ac_000    object\n",
       "ad_000    object\n",
       "           ...  \n",
       "ee_007    object\n",
       "ee_008    object\n",
       "ee_009    object\n",
       "ef_000    object\n",
       "eg_000    object\n",
       "Length: 171, dtype: object"
      ]
     },
     "execution_count": 17,
     "metadata": {},
     "output_type": "execute_result"
    }
   ],
   "source": [
    "train_data.dtypes"
   ]
  },
  {
   "cell_type": "code",
   "execution_count": 18,
   "metadata": {},
   "outputs": [
    {
     "data": {
      "text/plain": [
       "class     0\n",
       "aa_000    0\n",
       "ab_000    0\n",
       "ac_000    0\n",
       "ad_000    0\n",
       "         ..\n",
       "ee_007    0\n",
       "ee_008    0\n",
       "ee_009    0\n",
       "ef_000    0\n",
       "eg_000    0\n",
       "Length: 171, dtype: int64"
      ]
     },
     "execution_count": 18,
     "metadata": {},
     "output_type": "execute_result"
    }
   ],
   "source": [
    "train_data.isnull().sum()"
   ]
  },
  {
   "attachments": {},
   "cell_type": "markdown",
   "metadata": {},
   "source": [
    "- According to description text file Missing values are denoted by \"na\"."
   ]
  },
  {
   "cell_type": "code",
   "execution_count": 7,
   "metadata": {},
   "outputs": [],
   "source": [
    "def check_null_values(df:pd.DataFrame):\n",
    "    column_dict = {}\n",
    "    columns = df.columns\n",
    "    for column in columns:\n",
    "        null_count = df[df[column] == \"na\"].shape[0]\n",
    "        column_dict[column] = null_count\n",
    "    return column_dict"
   ]
  },
  {
   "cell_type": "code",
   "execution_count": 8,
   "metadata": {},
   "outputs": [
    {
     "data": {
      "text/plain": [
       "{'class': 0,\n",
       " 'aa_000': 0,\n",
       " 'ab_000': 46329,\n",
       " 'ac_000': 3335,\n",
       " 'ad_000': 14861,\n",
       " 'ae_000': 2500,\n",
       " 'af_000': 2500,\n",
       " 'ag_000': 671,\n",
       " 'ag_001': 671,\n",
       " 'ag_002': 671,\n",
       " 'ag_003': 671,\n",
       " 'ag_004': 671,\n",
       " 'ag_005': 671,\n",
       " 'ag_006': 671,\n",
       " 'ag_007': 671,\n",
       " 'ag_008': 671,\n",
       " 'ag_009': 671,\n",
       " 'ah_000': 645,\n",
       " 'ai_000': 629,\n",
       " 'aj_000': 629,\n",
       " 'ak_000': 4400,\n",
       " 'al_000': 642,\n",
       " 'am_0': 629,\n",
       " 'an_000': 642,\n",
       " 'ao_000': 589,\n",
       " 'ap_000': 642,\n",
       " 'aq_000': 589,\n",
       " 'ar_000': 2723,\n",
       " 'as_000': 629,\n",
       " 'at_000': 629,\n",
       " 'au_000': 629,\n",
       " 'av_000': 2500,\n",
       " 'ax_000': 2501,\n",
       " 'ay_000': 671,\n",
       " 'ay_001': 671,\n",
       " 'ay_002': 671,\n",
       " 'ay_003': 671,\n",
       " 'ay_004': 671,\n",
       " 'ay_005': 671,\n",
       " 'ay_006': 671,\n",
       " 'ay_007': 671,\n",
       " 'ay_008': 671,\n",
       " 'ay_009': 671,\n",
       " 'az_000': 671,\n",
       " 'az_001': 671,\n",
       " 'az_002': 671,\n",
       " 'az_003': 671,\n",
       " 'az_004': 671,\n",
       " 'az_005': 671,\n",
       " 'az_006': 671,\n",
       " 'az_007': 671,\n",
       " 'az_008': 671,\n",
       " 'az_009': 671,\n",
       " 'ba_000': 688,\n",
       " 'ba_001': 688,\n",
       " 'ba_002': 688,\n",
       " 'ba_003': 688,\n",
       " 'ba_004': 688,\n",
       " 'ba_005': 688,\n",
       " 'ba_006': 688,\n",
       " 'ba_007': 688,\n",
       " 'ba_008': 688,\n",
       " 'ba_009': 688,\n",
       " 'bb_000': 645,\n",
       " 'bc_000': 2725,\n",
       " 'bd_000': 2727,\n",
       " 'be_000': 2503,\n",
       " 'bf_000': 2500,\n",
       " 'bg_000': 642,\n",
       " 'bh_000': 642,\n",
       " 'bi_000': 589,\n",
       " 'bj_000': 589,\n",
       " 'bk_000': 23034,\n",
       " 'bl_000': 27277,\n",
       " 'bm_000': 39549,\n",
       " 'bn_000': 44009,\n",
       " 'bo_000': 46333,\n",
       " 'bp_000': 47740,\n",
       " 'bq_000': 48722,\n",
       " 'br_000': 49264,\n",
       " 'bs_000': 726,\n",
       " 'bt_000': 167,\n",
       " 'bu_000': 691,\n",
       " 'bv_000': 691,\n",
       " 'bx_000': 3257,\n",
       " 'by_000': 473,\n",
       " 'bz_000': 2723,\n",
       " 'ca_000': 4356,\n",
       " 'cb_000': 726,\n",
       " 'cc_000': 3255,\n",
       " 'cd_000': 676,\n",
       " 'ce_000': 2502,\n",
       " 'cf_000': 14861,\n",
       " 'cg_000': 14861,\n",
       " 'ch_000': 14861,\n",
       " 'ci_000': 338,\n",
       " 'cj_000': 338,\n",
       " 'ck_000': 338,\n",
       " 'cl_000': 9553,\n",
       " 'cm_000': 9877,\n",
       " 'cn_000': 687,\n",
       " 'cn_001': 687,\n",
       " 'cn_002': 687,\n",
       " 'cn_003': 687,\n",
       " 'cn_004': 687,\n",
       " 'cn_005': 687,\n",
       " 'cn_006': 687,\n",
       " 'cn_007': 687,\n",
       " 'cn_008': 687,\n",
       " 'cn_009': 687,\n",
       " 'co_000': 14861,\n",
       " 'cp_000': 2724,\n",
       " 'cq_000': 691,\n",
       " 'cr_000': 46329,\n",
       " 'cs_000': 669,\n",
       " 'cs_001': 669,\n",
       " 'cs_002': 669,\n",
       " 'cs_003': 669,\n",
       " 'cs_004': 669,\n",
       " 'cs_005': 669,\n",
       " 'cs_006': 669,\n",
       " 'cs_007': 669,\n",
       " 'cs_008': 669,\n",
       " 'cs_009': 669,\n",
       " 'ct_000': 13808,\n",
       " 'cu_000': 13808,\n",
       " 'cv_000': 13808,\n",
       " 'cx_000': 13808,\n",
       " 'cy_000': 13808,\n",
       " 'cz_000': 13808,\n",
       " 'da_000': 13808,\n",
       " 'db_000': 13808,\n",
       " 'dc_000': 13808,\n",
       " 'dd_000': 2503,\n",
       " 'de_000': 2724,\n",
       " 'df_000': 4008,\n",
       " 'dg_000': 4008,\n",
       " 'dh_000': 4008,\n",
       " 'di_000': 4006,\n",
       " 'dj_000': 4007,\n",
       " 'dk_000': 4007,\n",
       " 'dl_000': 4008,\n",
       " 'dm_000': 4009,\n",
       " 'dn_000': 691,\n",
       " 'do_000': 2724,\n",
       " 'dp_000': 2726,\n",
       " 'dq_000': 2726,\n",
       " 'dr_000': 2726,\n",
       " 'ds_000': 2727,\n",
       " 'dt_000': 2727,\n",
       " 'du_000': 2726,\n",
       " 'dv_000': 2726,\n",
       " 'dx_000': 2723,\n",
       " 'dy_000': 2724,\n",
       " 'dz_000': 2723,\n",
       " 'ea_000': 2723,\n",
       " 'eb_000': 4007,\n",
       " 'ec_00': 10239,\n",
       " 'ed_000': 9553,\n",
       " 'ee_000': 671,\n",
       " 'ee_001': 671,\n",
       " 'ee_002': 671,\n",
       " 'ee_003': 671,\n",
       " 'ee_004': 671,\n",
       " 'ee_005': 671,\n",
       " 'ee_006': 671,\n",
       " 'ee_007': 671,\n",
       " 'ee_008': 671,\n",
       " 'ee_009': 671,\n",
       " 'ef_000': 2724,\n",
       " 'eg_000': 2723}"
      ]
     },
     "execution_count": 8,
     "metadata": {},
     "output_type": "execute_result"
    }
   ],
   "source": [
    "check_null_values(train_data)"
   ]
  },
  {
   "attachments": {},
   "cell_type": "markdown",
   "metadata": {},
   "source": [
    "- Almost every feature has missing values and few features has more than 30k,\n",
    "- also except aa_000 feature, all features data type is object,\n",
    "- we need to change data type and string na into float('nan') to deal with missing values."
   ]
  },
  {
   "cell_type": "code",
   "execution_count": 10,
   "metadata": {},
   "outputs": [],
   "source": [
    "def change_dtype(x):\n",
    "    if x == \"na\":\n",
    "        return float('nan')\n",
    "    else:\n",
    "        return float(x)"
   ]
  },
  {
   "cell_type": "code",
   "execution_count": 11,
   "metadata": {},
   "outputs": [],
   "source": [
    "# Changing the data type of object column and replacing \"na\" with np.nan\n",
    "all_input_columns = list(train_data.columns)[1:]\n",
    "for input_col in all_input_columns:\n",
    "    if train_data[input_col].dtype =='O':\n",
    "        train_data[input_col] = train_data[input_col].apply(change_dtype)\n",
    "    else:\n",
    "        pass"
   ]
  },
  {
   "cell_type": "code",
   "execution_count": 12,
   "metadata": {},
   "outputs": [
    {
     "data": {
      "text/html": [
       "<div>\n",
       "<style scoped>\n",
       "    .dataframe tbody tr th:only-of-type {\n",
       "        vertical-align: middle;\n",
       "    }\n",
       "\n",
       "    .dataframe tbody tr th {\n",
       "        vertical-align: top;\n",
       "    }\n",
       "\n",
       "    .dataframe thead th {\n",
       "        text-align: right;\n",
       "    }\n",
       "</style>\n",
       "<table border=\"1\" class=\"dataframe\">\n",
       "  <thead>\n",
       "    <tr style=\"text-align: right;\">\n",
       "      <th></th>\n",
       "      <th>class</th>\n",
       "      <th>aa_000</th>\n",
       "      <th>ab_000</th>\n",
       "      <th>ac_000</th>\n",
       "      <th>ad_000</th>\n",
       "      <th>ae_000</th>\n",
       "      <th>af_000</th>\n",
       "      <th>ag_000</th>\n",
       "      <th>ag_001</th>\n",
       "      <th>ag_002</th>\n",
       "      <th>...</th>\n",
       "      <th>ee_002</th>\n",
       "      <th>ee_003</th>\n",
       "      <th>ee_004</th>\n",
       "      <th>ee_005</th>\n",
       "      <th>ee_006</th>\n",
       "      <th>ee_007</th>\n",
       "      <th>ee_008</th>\n",
       "      <th>ee_009</th>\n",
       "      <th>ef_000</th>\n",
       "      <th>eg_000</th>\n",
       "    </tr>\n",
       "  </thead>\n",
       "  <tbody>\n",
       "    <tr>\n",
       "      <th>8986</th>\n",
       "      <td>neg</td>\n",
       "      <td>674794</td>\n",
       "      <td>0.0</td>\n",
       "      <td>4760.0</td>\n",
       "      <td>502.0</td>\n",
       "      <td>0.0</td>\n",
       "      <td>0.0</td>\n",
       "      <td>0.0</td>\n",
       "      <td>764.0</td>\n",
       "      <td>305104.0</td>\n",
       "      <td>...</td>\n",
       "      <td>452528.0</td>\n",
       "      <td>356282.0</td>\n",
       "      <td>655216.0</td>\n",
       "      <td>682974.0</td>\n",
       "      <td>22198.0</td>\n",
       "      <td>2230.0</td>\n",
       "      <td>342.0</td>\n",
       "      <td>0.0</td>\n",
       "      <td>134.0</td>\n",
       "      <td>892.0</td>\n",
       "    </tr>\n",
       "    <tr>\n",
       "      <th>24917</th>\n",
       "      <td>neg</td>\n",
       "      <td>60956</td>\n",
       "      <td>NaN</td>\n",
       "      <td>416.0</td>\n",
       "      <td>356.0</td>\n",
       "      <td>0.0</td>\n",
       "      <td>0.0</td>\n",
       "      <td>0.0</td>\n",
       "      <td>0.0</td>\n",
       "      <td>0.0</td>\n",
       "      <td>...</td>\n",
       "      <td>420878.0</td>\n",
       "      <td>208804.0</td>\n",
       "      <td>485252.0</td>\n",
       "      <td>501012.0</td>\n",
       "      <td>666906.0</td>\n",
       "      <td>400810.0</td>\n",
       "      <td>41504.0</td>\n",
       "      <td>514.0</td>\n",
       "      <td>0.0</td>\n",
       "      <td>0.0</td>\n",
       "    </tr>\n",
       "    <tr>\n",
       "      <th>17388</th>\n",
       "      <td>neg</td>\n",
       "      <td>190532</td>\n",
       "      <td>NaN</td>\n",
       "      <td>288.0</td>\n",
       "      <td>200.0</td>\n",
       "      <td>0.0</td>\n",
       "      <td>0.0</td>\n",
       "      <td>0.0</td>\n",
       "      <td>1170.0</td>\n",
       "      <td>134384.0</td>\n",
       "      <td>...</td>\n",
       "      <td>818320.0</td>\n",
       "      <td>581016.0</td>\n",
       "      <td>1482334.0</td>\n",
       "      <td>1208458.0</td>\n",
       "      <td>2620464.0</td>\n",
       "      <td>1752850.0</td>\n",
       "      <td>4868.0</td>\n",
       "      <td>0.0</td>\n",
       "      <td>0.0</td>\n",
       "      <td>0.0</td>\n",
       "    </tr>\n",
       "    <tr>\n",
       "      <th>18769</th>\n",
       "      <td>neg</td>\n",
       "      <td>38292</td>\n",
       "      <td>NaN</td>\n",
       "      <td>652.0</td>\n",
       "      <td>606.0</td>\n",
       "      <td>0.0</td>\n",
       "      <td>0.0</td>\n",
       "      <td>0.0</td>\n",
       "      <td>0.0</td>\n",
       "      <td>0.0</td>\n",
       "      <td>...</td>\n",
       "      <td>296872.0</td>\n",
       "      <td>151324.0</td>\n",
       "      <td>315336.0</td>\n",
       "      <td>285530.0</td>\n",
       "      <td>342708.0</td>\n",
       "      <td>178864.0</td>\n",
       "      <td>134712.0</td>\n",
       "      <td>30.0</td>\n",
       "      <td>0.0</td>\n",
       "      <td>0.0</td>\n",
       "    </tr>\n",
       "    <tr>\n",
       "      <th>47020</th>\n",
       "      <td>neg</td>\n",
       "      <td>28982</td>\n",
       "      <td>NaN</td>\n",
       "      <td>962.0</td>\n",
       "      <td>888.0</td>\n",
       "      <td>0.0</td>\n",
       "      <td>0.0</td>\n",
       "      <td>0.0</td>\n",
       "      <td>0.0</td>\n",
       "      <td>0.0</td>\n",
       "      <td>...</td>\n",
       "      <td>294446.0</td>\n",
       "      <td>128164.0</td>\n",
       "      <td>293724.0</td>\n",
       "      <td>291706.0</td>\n",
       "      <td>165978.0</td>\n",
       "      <td>73730.0</td>\n",
       "      <td>53794.0</td>\n",
       "      <td>16.0</td>\n",
       "      <td>0.0</td>\n",
       "      <td>0.0</td>\n",
       "    </tr>\n",
       "  </tbody>\n",
       "</table>\n",
       "<p>5 rows × 171 columns</p>\n",
       "</div>"
      ],
      "text/plain": [
       "      class  aa_000  ab_000  ac_000  ad_000  ae_000  af_000  ag_000  ag_001  \\\n",
       "8986    neg  674794     0.0  4760.0   502.0     0.0     0.0     0.0   764.0   \n",
       "24917   neg   60956     NaN   416.0   356.0     0.0     0.0     0.0     0.0   \n",
       "17388   neg  190532     NaN   288.0   200.0     0.0     0.0     0.0  1170.0   \n",
       "18769   neg   38292     NaN   652.0   606.0     0.0     0.0     0.0     0.0   \n",
       "47020   neg   28982     NaN   962.0   888.0     0.0     0.0     0.0     0.0   \n",
       "\n",
       "         ag_002  ...    ee_002    ee_003     ee_004     ee_005     ee_006  \\\n",
       "8986   305104.0  ...  452528.0  356282.0   655216.0   682974.0    22198.0   \n",
       "24917       0.0  ...  420878.0  208804.0   485252.0   501012.0   666906.0   \n",
       "17388  134384.0  ...  818320.0  581016.0  1482334.0  1208458.0  2620464.0   \n",
       "18769       0.0  ...  296872.0  151324.0   315336.0   285530.0   342708.0   \n",
       "47020       0.0  ...  294446.0  128164.0   293724.0   291706.0   165978.0   \n",
       "\n",
       "          ee_007    ee_008  ee_009  ef_000  eg_000  \n",
       "8986      2230.0     342.0     0.0   134.0   892.0  \n",
       "24917   400810.0   41504.0   514.0     0.0     0.0  \n",
       "17388  1752850.0    4868.0     0.0     0.0     0.0  \n",
       "18769   178864.0  134712.0    30.0     0.0     0.0  \n",
       "47020    73730.0   53794.0    16.0     0.0     0.0  \n",
       "\n",
       "[5 rows x 171 columns]"
      ]
     },
     "execution_count": 12,
     "metadata": {},
     "output_type": "execute_result"
    }
   ],
   "source": [
    "train_data.sample(5)"
   ]
  },
  {
   "cell_type": "code",
   "execution_count": 13,
   "metadata": {},
   "outputs": [
    {
     "data": {
      "text/plain": [
       "class         0\n",
       "aa_000        0\n",
       "ab_000    46329\n",
       "ac_000     3335\n",
       "ad_000    14861\n",
       "          ...  \n",
       "ee_007      671\n",
       "ee_008      671\n",
       "ee_009      671\n",
       "ef_000     2724\n",
       "eg_000     2723\n",
       "Length: 171, dtype: int64"
      ]
     },
     "execution_count": 13,
     "metadata": {},
     "output_type": "execute_result"
    }
   ],
   "source": [
    "train_data.isnull().sum()"
   ]
  },
  {
   "cell_type": "code",
   "execution_count": 14,
   "metadata": {},
   "outputs": [
    {
     "data": {
      "text/plain": [
       "class      object\n",
       "aa_000      int64\n",
       "ab_000    float64\n",
       "ac_000    float64\n",
       "ad_000    float64\n",
       "           ...   \n",
       "ee_007    float64\n",
       "ee_008    float64\n",
       "ee_009    float64\n",
       "ef_000    float64\n",
       "eg_000    float64\n",
       "Length: 171, dtype: object"
      ]
     },
     "execution_count": 14,
     "metadata": {},
     "output_type": "execute_result"
    }
   ],
   "source": [
    "train_data.dtypes"
   ]
  },
  {
   "cell_type": "code",
   "execution_count": 15,
   "metadata": {},
   "outputs": [
    {
     "data": {
      "text/html": [
       "<div>\n",
       "<style scoped>\n",
       "    .dataframe tbody tr th:only-of-type {\n",
       "        vertical-align: middle;\n",
       "    }\n",
       "\n",
       "    .dataframe tbody tr th {\n",
       "        vertical-align: top;\n",
       "    }\n",
       "\n",
       "    .dataframe thead th {\n",
       "        text-align: right;\n",
       "    }\n",
       "</style>\n",
       "<table border=\"1\" class=\"dataframe\">\n",
       "  <thead>\n",
       "    <tr style=\"text-align: right;\">\n",
       "      <th></th>\n",
       "      <th>aa_000</th>\n",
       "      <th>ab_000</th>\n",
       "      <th>ac_000</th>\n",
       "      <th>ad_000</th>\n",
       "      <th>ae_000</th>\n",
       "      <th>af_000</th>\n",
       "      <th>ag_000</th>\n",
       "      <th>ag_001</th>\n",
       "      <th>ag_002</th>\n",
       "      <th>ag_003</th>\n",
       "      <th>...</th>\n",
       "      <th>ee_002</th>\n",
       "      <th>ee_003</th>\n",
       "      <th>ee_004</th>\n",
       "      <th>ee_005</th>\n",
       "      <th>ee_006</th>\n",
       "      <th>ee_007</th>\n",
       "      <th>ee_008</th>\n",
       "      <th>ee_009</th>\n",
       "      <th>ef_000</th>\n",
       "      <th>eg_000</th>\n",
       "    </tr>\n",
       "  </thead>\n",
       "  <tbody>\n",
       "    <tr>\n",
       "      <th>count</th>\n",
       "      <td>6.000000e+04</td>\n",
       "      <td>13671.000000</td>\n",
       "      <td>5.666500e+04</td>\n",
       "      <td>4.513900e+04</td>\n",
       "      <td>57500.000000</td>\n",
       "      <td>57500.000000</td>\n",
       "      <td>5.932900e+04</td>\n",
       "      <td>5.932900e+04</td>\n",
       "      <td>5.932900e+04</td>\n",
       "      <td>5.932900e+04</td>\n",
       "      <td>...</td>\n",
       "      <td>5.932900e+04</td>\n",
       "      <td>5.932900e+04</td>\n",
       "      <td>5.932900e+04</td>\n",
       "      <td>5.932900e+04</td>\n",
       "      <td>5.932900e+04</td>\n",
       "      <td>5.932900e+04</td>\n",
       "      <td>5.932900e+04</td>\n",
       "      <td>5.932900e+04</td>\n",
       "      <td>57276.000000</td>\n",
       "      <td>57277.000000</td>\n",
       "    </tr>\n",
       "    <tr>\n",
       "      <th>mean</th>\n",
       "      <td>5.933650e+04</td>\n",
       "      <td>0.713189</td>\n",
       "      <td>3.560143e+08</td>\n",
       "      <td>1.906206e+05</td>\n",
       "      <td>6.819130</td>\n",
       "      <td>11.006817</td>\n",
       "      <td>2.216364e+02</td>\n",
       "      <td>9.757223e+02</td>\n",
       "      <td>8.606015e+03</td>\n",
       "      <td>8.859128e+04</td>\n",
       "      <td>...</td>\n",
       "      <td>4.454897e+05</td>\n",
       "      <td>2.111264e+05</td>\n",
       "      <td>4.457343e+05</td>\n",
       "      <td>3.939462e+05</td>\n",
       "      <td>3.330582e+05</td>\n",
       "      <td>3.462714e+05</td>\n",
       "      <td>1.387300e+05</td>\n",
       "      <td>8.388915e+03</td>\n",
       "      <td>0.090579</td>\n",
       "      <td>0.212756</td>\n",
       "    </tr>\n",
       "    <tr>\n",
       "      <th>std</th>\n",
       "      <td>1.454301e+05</td>\n",
       "      <td>3.478962</td>\n",
       "      <td>7.948749e+08</td>\n",
       "      <td>4.040441e+07</td>\n",
       "      <td>161.543373</td>\n",
       "      <td>209.792592</td>\n",
       "      <td>2.047846e+04</td>\n",
       "      <td>3.420053e+04</td>\n",
       "      <td>1.503220e+05</td>\n",
       "      <td>7.617312e+05</td>\n",
       "      <td>...</td>\n",
       "      <td>1.155540e+06</td>\n",
       "      <td>5.433188e+05</td>\n",
       "      <td>1.168314e+06</td>\n",
       "      <td>1.121044e+06</td>\n",
       "      <td>1.069160e+06</td>\n",
       "      <td>1.728056e+06</td>\n",
       "      <td>4.495100e+05</td>\n",
       "      <td>4.747043e+04</td>\n",
       "      <td>4.368855</td>\n",
       "      <td>8.830641</td>\n",
       "    </tr>\n",
       "    <tr>\n",
       "      <th>min</th>\n",
       "      <td>0.000000e+00</td>\n",
       "      <td>0.000000</td>\n",
       "      <td>0.000000e+00</td>\n",
       "      <td>0.000000e+00</td>\n",
       "      <td>0.000000</td>\n",
       "      <td>0.000000</td>\n",
       "      <td>0.000000e+00</td>\n",
       "      <td>0.000000e+00</td>\n",
       "      <td>0.000000e+00</td>\n",
       "      <td>0.000000e+00</td>\n",
       "      <td>...</td>\n",
       "      <td>0.000000e+00</td>\n",
       "      <td>0.000000e+00</td>\n",
       "      <td>0.000000e+00</td>\n",
       "      <td>0.000000e+00</td>\n",
       "      <td>0.000000e+00</td>\n",
       "      <td>0.000000e+00</td>\n",
       "      <td>0.000000e+00</td>\n",
       "      <td>0.000000e+00</td>\n",
       "      <td>0.000000</td>\n",
       "      <td>0.000000</td>\n",
       "    </tr>\n",
       "    <tr>\n",
       "      <th>25%</th>\n",
       "      <td>8.340000e+02</td>\n",
       "      <td>0.000000</td>\n",
       "      <td>1.600000e+01</td>\n",
       "      <td>2.400000e+01</td>\n",
       "      <td>0.000000</td>\n",
       "      <td>0.000000</td>\n",
       "      <td>0.000000e+00</td>\n",
       "      <td>0.000000e+00</td>\n",
       "      <td>0.000000e+00</td>\n",
       "      <td>0.000000e+00</td>\n",
       "      <td>...</td>\n",
       "      <td>2.936000e+03</td>\n",
       "      <td>1.166000e+03</td>\n",
       "      <td>2.700000e+03</td>\n",
       "      <td>3.584000e+03</td>\n",
       "      <td>5.120000e+02</td>\n",
       "      <td>1.100000e+02</td>\n",
       "      <td>0.000000e+00</td>\n",
       "      <td>0.000000e+00</td>\n",
       "      <td>0.000000</td>\n",
       "      <td>0.000000</td>\n",
       "    </tr>\n",
       "    <tr>\n",
       "      <th>50%</th>\n",
       "      <td>3.077600e+04</td>\n",
       "      <td>0.000000</td>\n",
       "      <td>1.520000e+02</td>\n",
       "      <td>1.260000e+02</td>\n",
       "      <td>0.000000</td>\n",
       "      <td>0.000000</td>\n",
       "      <td>0.000000e+00</td>\n",
       "      <td>0.000000e+00</td>\n",
       "      <td>0.000000e+00</td>\n",
       "      <td>0.000000e+00</td>\n",
       "      <td>...</td>\n",
       "      <td>2.337960e+05</td>\n",
       "      <td>1.120860e+05</td>\n",
       "      <td>2.215180e+05</td>\n",
       "      <td>1.899880e+05</td>\n",
       "      <td>9.243200e+04</td>\n",
       "      <td>4.109800e+04</td>\n",
       "      <td>3.812000e+03</td>\n",
       "      <td>0.000000e+00</td>\n",
       "      <td>0.000000</td>\n",
       "      <td>0.000000</td>\n",
       "    </tr>\n",
       "    <tr>\n",
       "      <th>75%</th>\n",
       "      <td>4.866800e+04</td>\n",
       "      <td>0.000000</td>\n",
       "      <td>9.640000e+02</td>\n",
       "      <td>4.300000e+02</td>\n",
       "      <td>0.000000</td>\n",
       "      <td>0.000000</td>\n",
       "      <td>0.000000e+00</td>\n",
       "      <td>0.000000e+00</td>\n",
       "      <td>0.000000e+00</td>\n",
       "      <td>0.000000e+00</td>\n",
       "      <td>...</td>\n",
       "      <td>4.383960e+05</td>\n",
       "      <td>2.182320e+05</td>\n",
       "      <td>4.666140e+05</td>\n",
       "      <td>4.032220e+05</td>\n",
       "      <td>2.750940e+05</td>\n",
       "      <td>1.678140e+05</td>\n",
       "      <td>1.397240e+05</td>\n",
       "      <td>2.028000e+03</td>\n",
       "      <td>0.000000</td>\n",
       "      <td>0.000000</td>\n",
       "    </tr>\n",
       "    <tr>\n",
       "      <th>max</th>\n",
       "      <td>2.746564e+06</td>\n",
       "      <td>204.000000</td>\n",
       "      <td>2.130707e+09</td>\n",
       "      <td>8.584298e+09</td>\n",
       "      <td>21050.000000</td>\n",
       "      <td>20070.000000</td>\n",
       "      <td>3.376892e+06</td>\n",
       "      <td>4.109372e+06</td>\n",
       "      <td>1.055286e+07</td>\n",
       "      <td>6.340207e+07</td>\n",
       "      <td>...</td>\n",
       "      <td>7.793393e+07</td>\n",
       "      <td>3.775839e+07</td>\n",
       "      <td>9.715238e+07</td>\n",
       "      <td>5.743524e+07</td>\n",
       "      <td>3.160781e+07</td>\n",
       "      <td>1.195801e+08</td>\n",
       "      <td>1.926740e+07</td>\n",
       "      <td>3.810078e+06</td>\n",
       "      <td>482.000000</td>\n",
       "      <td>1146.000000</td>\n",
       "    </tr>\n",
       "  </tbody>\n",
       "</table>\n",
       "<p>8 rows × 170 columns</p>\n",
       "</div>"
      ],
      "text/plain": [
       "             aa_000        ab_000        ac_000        ad_000        ae_000  \\\n",
       "count  6.000000e+04  13671.000000  5.666500e+04  4.513900e+04  57500.000000   \n",
       "mean   5.933650e+04      0.713189  3.560143e+08  1.906206e+05      6.819130   \n",
       "std    1.454301e+05      3.478962  7.948749e+08  4.040441e+07    161.543373   \n",
       "min    0.000000e+00      0.000000  0.000000e+00  0.000000e+00      0.000000   \n",
       "25%    8.340000e+02      0.000000  1.600000e+01  2.400000e+01      0.000000   \n",
       "50%    3.077600e+04      0.000000  1.520000e+02  1.260000e+02      0.000000   \n",
       "75%    4.866800e+04      0.000000  9.640000e+02  4.300000e+02      0.000000   \n",
       "max    2.746564e+06    204.000000  2.130707e+09  8.584298e+09  21050.000000   \n",
       "\n",
       "             af_000        ag_000        ag_001        ag_002        ag_003  \\\n",
       "count  57500.000000  5.932900e+04  5.932900e+04  5.932900e+04  5.932900e+04   \n",
       "mean      11.006817  2.216364e+02  9.757223e+02  8.606015e+03  8.859128e+04   \n",
       "std      209.792592  2.047846e+04  3.420053e+04  1.503220e+05  7.617312e+05   \n",
       "min        0.000000  0.000000e+00  0.000000e+00  0.000000e+00  0.000000e+00   \n",
       "25%        0.000000  0.000000e+00  0.000000e+00  0.000000e+00  0.000000e+00   \n",
       "50%        0.000000  0.000000e+00  0.000000e+00  0.000000e+00  0.000000e+00   \n",
       "75%        0.000000  0.000000e+00  0.000000e+00  0.000000e+00  0.000000e+00   \n",
       "max    20070.000000  3.376892e+06  4.109372e+06  1.055286e+07  6.340207e+07   \n",
       "\n",
       "       ...        ee_002        ee_003        ee_004        ee_005  \\\n",
       "count  ...  5.932900e+04  5.932900e+04  5.932900e+04  5.932900e+04   \n",
       "mean   ...  4.454897e+05  2.111264e+05  4.457343e+05  3.939462e+05   \n",
       "std    ...  1.155540e+06  5.433188e+05  1.168314e+06  1.121044e+06   \n",
       "min    ...  0.000000e+00  0.000000e+00  0.000000e+00  0.000000e+00   \n",
       "25%    ...  2.936000e+03  1.166000e+03  2.700000e+03  3.584000e+03   \n",
       "50%    ...  2.337960e+05  1.120860e+05  2.215180e+05  1.899880e+05   \n",
       "75%    ...  4.383960e+05  2.182320e+05  4.666140e+05  4.032220e+05   \n",
       "max    ...  7.793393e+07  3.775839e+07  9.715238e+07  5.743524e+07   \n",
       "\n",
       "             ee_006        ee_007        ee_008        ee_009        ef_000  \\\n",
       "count  5.932900e+04  5.932900e+04  5.932900e+04  5.932900e+04  57276.000000   \n",
       "mean   3.330582e+05  3.462714e+05  1.387300e+05  8.388915e+03      0.090579   \n",
       "std    1.069160e+06  1.728056e+06  4.495100e+05  4.747043e+04      4.368855   \n",
       "min    0.000000e+00  0.000000e+00  0.000000e+00  0.000000e+00      0.000000   \n",
       "25%    5.120000e+02  1.100000e+02  0.000000e+00  0.000000e+00      0.000000   \n",
       "50%    9.243200e+04  4.109800e+04  3.812000e+03  0.000000e+00      0.000000   \n",
       "75%    2.750940e+05  1.678140e+05  1.397240e+05  2.028000e+03      0.000000   \n",
       "max    3.160781e+07  1.195801e+08  1.926740e+07  3.810078e+06    482.000000   \n",
       "\n",
       "             eg_000  \n",
       "count  57277.000000  \n",
       "mean       0.212756  \n",
       "std        8.830641  \n",
       "min        0.000000  \n",
       "25%        0.000000  \n",
       "50%        0.000000  \n",
       "75%        0.000000  \n",
       "max     1146.000000  \n",
       "\n",
       "[8 rows x 170 columns]"
      ]
     },
     "execution_count": 15,
     "metadata": {},
     "output_type": "execute_result"
    }
   ],
   "source": [
    "# summary\n",
    "train_data.describe()"
   ]
  },
  {
   "cell_type": "code",
   "execution_count": 16,
   "metadata": {},
   "outputs": [
    {
     "data": {
      "text/plain": [
       "aa_000      6.115752\n",
       "ab_000     28.085266\n",
       "ac_000      1.784845\n",
       "ad_000    212.459406\n",
       "ae_000     90.588252\n",
       "             ...    \n",
       "ee_007     15.717250\n",
       "ee_008     13.426265\n",
       "ee_009     29.214135\n",
       "ef_000     73.432440\n",
       "eg_000     89.029482\n",
       "Length: 170, dtype: float64"
      ]
     },
     "execution_count": 16,
     "metadata": {},
     "output_type": "execute_result"
    }
   ],
   "source": [
    "skew_report = train_data.skew(axis=0, skipna=True)\n",
    "skew_report"
   ]
  },
  {
   "attachments": {},
   "cell_type": "markdown",
   "metadata": {},
   "source": [
    "- All features are highly skewed"
   ]
  },
  {
   "cell_type": "code",
   "execution_count": 126,
   "metadata": {},
   "outputs": [
    {
     "data": {
      "text/plain": [
       "<Axes: xlabel='aa_000', ylabel='Density'>"
      ]
     },
     "execution_count": 126,
     "metadata": {},
     "output_type": "execute_result"
    },
    {
     "data": {
      "image/png": "[encoded data removed]",
      "text/plain": [
       "<Figure size 640x480 with 1 Axes>"
      ]
     },
     "metadata": {},
     "output_type": "display_data"
    }
   ],
   "source": [
    "sns.distplot(train_data[\"aa_000\"])"
   ]
  },
  {
   "cell_type": "code",
   "execution_count": 121,
   "metadata": {},
   "outputs": [
    {
     "data": {
      "text/plain": [
       "<Axes: xlabel='ac_000', ylabel='Density'>"
      ]
     },
     "execution_count": 121,
     "metadata": {},
     "output_type": "execute_result"
    },
    {
     "data": {
      "image/png": "[encoded data removed]",
      "text/plain": [
       "<Figure size 640x480 with 1 Axes>"
      ]
     },
     "metadata": {},
     "output_type": "display_data"
    }
   ],
   "source": [
    "sns.distplot(train_data[\"ac_000\"])"
   ]
  },
  {
   "cell_type": "code",
   "execution_count": 127,
   "metadata": {},
   "outputs": [
    {
     "data": {
      "text/plain": [
       "<Axes: xlabel='ad_000', ylabel='Density'>"
      ]
     },
     "execution_count": 127,
     "metadata": {},
     "output_type": "execute_result"
    },
    {
     "data": {
      "image/png": "[encoded data removed]",
      "text/plain": [
       "<Figure size 640x480 with 1 Axes>"
      ]
     },
     "metadata": {},
     "output_type": "display_data"
    }
   ],
   "source": [
    "sns.distplot(train_data[\"ad_000\"])"
   ]
  },
  {
   "cell_type": "code",
   "execution_count": 20,
   "metadata": {},
   "outputs": [
    {
     "data": {
      "text/html": [
       "<div>\n",
       "<style scoped>\n",
       "    .dataframe tbody tr th:only-of-type {\n",
       "        vertical-align: middle;\n",
       "    }\n",
       "\n",
       "    .dataframe tbody tr th {\n",
       "        vertical-align: top;\n",
       "    }\n",
       "\n",
       "    .dataframe thead th {\n",
       "        text-align: right;\n",
       "    }\n",
       "</style>\n",
       "<table border=\"1\" class=\"dataframe\">\n",
       "  <thead>\n",
       "    <tr style=\"text-align: right;\">\n",
       "      <th></th>\n",
       "      <th>aa_000</th>\n",
       "      <th>ab_000</th>\n",
       "      <th>ac_000</th>\n",
       "      <th>ad_000</th>\n",
       "      <th>ae_000</th>\n",
       "      <th>af_000</th>\n",
       "      <th>ag_000</th>\n",
       "      <th>ag_001</th>\n",
       "      <th>ag_002</th>\n",
       "      <th>ag_003</th>\n",
       "      <th>...</th>\n",
       "      <th>ee_002</th>\n",
       "      <th>ee_003</th>\n",
       "      <th>ee_004</th>\n",
       "      <th>ee_005</th>\n",
       "      <th>ee_006</th>\n",
       "      <th>ee_007</th>\n",
       "      <th>ee_008</th>\n",
       "      <th>ee_009</th>\n",
       "      <th>ef_000</th>\n",
       "      <th>eg_000</th>\n",
       "    </tr>\n",
       "  </thead>\n",
       "  <tbody>\n",
       "    <tr>\n",
       "      <th>aa_000</th>\n",
       "      <td>1.000000</td>\n",
       "      <td>0.073103</td>\n",
       "      <td>-0.032055</td>\n",
       "      <td>-0.001903</td>\n",
       "      <td>0.061971</td>\n",
       "      <td>0.089474</td>\n",
       "      <td>0.018610</td>\n",
       "      <td>0.143153</td>\n",
       "      <td>0.285815</td>\n",
       "      <td>0.495529</td>\n",
       "      <td>...</td>\n",
       "      <td>0.735324</td>\n",
       "      <td>0.739211</td>\n",
       "      <td>0.717810</td>\n",
       "      <td>0.727240</td>\n",
       "      <td>0.726984</td>\n",
       "      <td>0.606232</td>\n",
       "      <td>0.471707</td>\n",
       "      <td>0.248039</td>\n",
       "      <td>0.019865</td>\n",
       "      <td>0.037099</td>\n",
       "    </tr>\n",
       "    <tr>\n",
       "      <th>ab_000</th>\n",
       "      <td>0.073103</td>\n",
       "      <td>1.000000</td>\n",
       "      <td>-0.019411</td>\n",
       "      <td>0.047281</td>\n",
       "      <td>0.031031</td>\n",
       "      <td>0.053532</td>\n",
       "      <td>0.008418</td>\n",
       "      <td>0.013658</td>\n",
       "      <td>0.050068</td>\n",
       "      <td>0.068100</td>\n",
       "      <td>...</td>\n",
       "      <td>0.062280</td>\n",
       "      <td>0.098808</td>\n",
       "      <td>0.068790</td>\n",
       "      <td>0.078091</td>\n",
       "      <td>0.048717</td>\n",
       "      <td>0.023867</td>\n",
       "      <td>0.039369</td>\n",
       "      <td>0.074119</td>\n",
       "      <td>0.055590</td>\n",
       "      <td>0.162948</td>\n",
       "    </tr>\n",
       "    <tr>\n",
       "      <th>ac_000</th>\n",
       "      <td>-0.032055</td>\n",
       "      <td>-0.019411</td>\n",
       "      <td>1.000000</td>\n",
       "      <td>-0.002380</td>\n",
       "      <td>-0.004997</td>\n",
       "      <td>-0.010554</td>\n",
       "      <td>0.017620</td>\n",
       "      <td>-0.001088</td>\n",
       "      <td>-0.016665</td>\n",
       "      <td>-0.038680</td>\n",
       "      <td>...</td>\n",
       "      <td>-0.013692</td>\n",
       "      <td>-0.008111</td>\n",
       "      <td>-0.009849</td>\n",
       "      <td>-0.011206</td>\n",
       "      <td>-0.021430</td>\n",
       "      <td>-0.029417</td>\n",
       "      <td>0.016908</td>\n",
       "      <td>0.024354</td>\n",
       "      <td>-0.006571</td>\n",
       "      <td>0.014228</td>\n",
       "    </tr>\n",
       "    <tr>\n",
       "      <th>ad_000</th>\n",
       "      <td>-0.001903</td>\n",
       "      <td>0.047281</td>\n",
       "      <td>-0.002380</td>\n",
       "      <td>1.000000</td>\n",
       "      <td>-0.000214</td>\n",
       "      <td>-0.000269</td>\n",
       "      <td>-0.000047</td>\n",
       "      <td>-0.000131</td>\n",
       "      <td>-0.000222</td>\n",
       "      <td>-0.000423</td>\n",
       "      <td>...</td>\n",
       "      <td>-0.002090</td>\n",
       "      <td>-0.002047</td>\n",
       "      <td>-0.001940</td>\n",
       "      <td>-0.001667</td>\n",
       "      <td>-0.001398</td>\n",
       "      <td>-0.000829</td>\n",
       "      <td>-0.002161</td>\n",
       "      <td>-0.001050</td>\n",
       "      <td>-0.000102</td>\n",
       "      <td>-0.000120</td>\n",
       "    </tr>\n",
       "    <tr>\n",
       "      <th>ae_000</th>\n",
       "      <td>0.061971</td>\n",
       "      <td>0.031031</td>\n",
       "      <td>-0.004997</td>\n",
       "      <td>-0.000214</td>\n",
       "      <td>1.000000</td>\n",
       "      <td>0.823108</td>\n",
       "      <td>-0.000430</td>\n",
       "      <td>-0.000832</td>\n",
       "      <td>0.005057</td>\n",
       "      <td>0.034163</td>\n",
       "      <td>...</td>\n",
       "      <td>0.017338</td>\n",
       "      <td>0.024905</td>\n",
       "      <td>0.017311</td>\n",
       "      <td>0.039967</td>\n",
       "      <td>0.085884</td>\n",
       "      <td>0.052357</td>\n",
       "      <td>-0.010850</td>\n",
       "      <td>-0.008206</td>\n",
       "      <td>0.070886</td>\n",
       "      <td>0.041715</td>\n",
       "    </tr>\n",
       "    <tr>\n",
       "      <th>...</th>\n",
       "      <td>...</td>\n",
       "      <td>...</td>\n",
       "      <td>...</td>\n",
       "      <td>...</td>\n",
       "      <td>...</td>\n",
       "      <td>...</td>\n",
       "      <td>...</td>\n",
       "      <td>...</td>\n",
       "      <td>...</td>\n",
       "      <td>...</td>\n",
       "      <td>...</td>\n",
       "      <td>...</td>\n",
       "      <td>...</td>\n",
       "      <td>...</td>\n",
       "      <td>...</td>\n",
       "      <td>...</td>\n",
       "      <td>...</td>\n",
       "      <td>...</td>\n",
       "      <td>...</td>\n",
       "      <td>...</td>\n",
       "      <td>...</td>\n",
       "    </tr>\n",
       "    <tr>\n",
       "      <th>ee_007</th>\n",
       "      <td>0.606232</td>\n",
       "      <td>0.023867</td>\n",
       "      <td>-0.029417</td>\n",
       "      <td>-0.000829</td>\n",
       "      <td>0.052357</td>\n",
       "      <td>0.070306</td>\n",
       "      <td>0.000307</td>\n",
       "      <td>0.044186</td>\n",
       "      <td>0.182990</td>\n",
       "      <td>0.505565</td>\n",
       "      <td>...</td>\n",
       "      <td>0.454833</td>\n",
       "      <td>0.446803</td>\n",
       "      <td>0.437682</td>\n",
       "      <td>0.379892</td>\n",
       "      <td>0.545929</td>\n",
       "      <td>1.000000</td>\n",
       "      <td>0.224938</td>\n",
       "      <td>0.061478</td>\n",
       "      <td>-0.000715</td>\n",
       "      <td>0.002708</td>\n",
       "    </tr>\n",
       "    <tr>\n",
       "      <th>ee_008</th>\n",
       "      <td>0.471707</td>\n",
       "      <td>0.039369</td>\n",
       "      <td>0.016908</td>\n",
       "      <td>-0.002161</td>\n",
       "      <td>-0.010850</td>\n",
       "      <td>-0.013976</td>\n",
       "      <td>-0.000823</td>\n",
       "      <td>0.004878</td>\n",
       "      <td>0.009466</td>\n",
       "      <td>0.021151</td>\n",
       "      <td>...</td>\n",
       "      <td>0.453811</td>\n",
       "      <td>0.481392</td>\n",
       "      <td>0.459517</td>\n",
       "      <td>0.406920</td>\n",
       "      <td>0.373871</td>\n",
       "      <td>0.224938</td>\n",
       "      <td>1.000000</td>\n",
       "      <td>0.710056</td>\n",
       "      <td>-0.006991</td>\n",
       "      <td>-0.002833</td>\n",
       "    </tr>\n",
       "    <tr>\n",
       "      <th>ee_009</th>\n",
       "      <td>0.248039</td>\n",
       "      <td>0.074119</td>\n",
       "      <td>0.024354</td>\n",
       "      <td>-0.001050</td>\n",
       "      <td>-0.008206</td>\n",
       "      <td>-0.010237</td>\n",
       "      <td>-0.001230</td>\n",
       "      <td>-0.004309</td>\n",
       "      <td>-0.009498</td>\n",
       "      <td>-0.019311</td>\n",
       "      <td>...</td>\n",
       "      <td>0.228248</td>\n",
       "      <td>0.239302</td>\n",
       "      <td>0.224638</td>\n",
       "      <td>0.190667</td>\n",
       "      <td>0.163792</td>\n",
       "      <td>0.061478</td>\n",
       "      <td>0.710056</td>\n",
       "      <td>1.000000</td>\n",
       "      <td>-0.003942</td>\n",
       "      <td>-0.000907</td>\n",
       "    </tr>\n",
       "    <tr>\n",
       "      <th>ef_000</th>\n",
       "      <td>0.019865</td>\n",
       "      <td>0.055590</td>\n",
       "      <td>-0.006571</td>\n",
       "      <td>-0.000102</td>\n",
       "      <td>0.070886</td>\n",
       "      <td>0.106281</td>\n",
       "      <td>-0.000072</td>\n",
       "      <td>0.002875</td>\n",
       "      <td>0.011824</td>\n",
       "      <td>0.020560</td>\n",
       "      <td>...</td>\n",
       "      <td>0.007118</td>\n",
       "      <td>0.017480</td>\n",
       "      <td>0.005835</td>\n",
       "      <td>0.050270</td>\n",
       "      <td>0.008461</td>\n",
       "      <td>-0.000715</td>\n",
       "      <td>-0.006991</td>\n",
       "      <td>-0.003942</td>\n",
       "      <td>1.000000</td>\n",
       "      <td>0.282184</td>\n",
       "    </tr>\n",
       "    <tr>\n",
       "      <th>eg_000</th>\n",
       "      <td>0.037099</td>\n",
       "      <td>0.162948</td>\n",
       "      <td>0.014228</td>\n",
       "      <td>-0.000120</td>\n",
       "      <td>0.041715</td>\n",
       "      <td>0.060710</td>\n",
       "      <td>0.000244</td>\n",
       "      <td>0.010930</td>\n",
       "      <td>0.034202</td>\n",
       "      <td>0.024210</td>\n",
       "      <td>...</td>\n",
       "      <td>0.008843</td>\n",
       "      <td>0.013671</td>\n",
       "      <td>0.014528</td>\n",
       "      <td>0.018663</td>\n",
       "      <td>0.033091</td>\n",
       "      <td>0.002708</td>\n",
       "      <td>-0.002833</td>\n",
       "      <td>-0.000907</td>\n",
       "      <td>0.282184</td>\n",
       "      <td>1.000000</td>\n",
       "    </tr>\n",
       "  </tbody>\n",
       "</table>\n",
       "<p>170 rows × 170 columns</p>\n",
       "</div>"
      ],
      "text/plain": [
       "          aa_000    ab_000    ac_000    ad_000    ae_000    af_000    ag_000  \\\n",
       "aa_000  1.000000  0.073103 -0.032055 -0.001903  0.061971  0.089474  0.018610   \n",
       "ab_000  0.073103  1.000000 -0.019411  0.047281  0.031031  0.053532  0.008418   \n",
       "ac_000 -0.032055 -0.019411  1.000000 -0.002380 -0.004997 -0.010554  0.017620   \n",
       "ad_000 -0.001903  0.047281 -0.002380  1.000000 -0.000214 -0.000269 -0.000047   \n",
       "ae_000  0.061971  0.031031 -0.004997 -0.000214  1.000000  0.823108 -0.000430   \n",
       "...          ...       ...       ...       ...       ...       ...       ...   \n",
       "ee_007  0.606232  0.023867 -0.029417 -0.000829  0.052357  0.070306  0.000307   \n",
       "ee_008  0.471707  0.039369  0.016908 -0.002161 -0.010850 -0.013976 -0.000823   \n",
       "ee_009  0.248039  0.074119  0.024354 -0.001050 -0.008206 -0.010237 -0.001230   \n",
       "ef_000  0.019865  0.055590 -0.006571 -0.000102  0.070886  0.106281 -0.000072   \n",
       "eg_000  0.037099  0.162948  0.014228 -0.000120  0.041715  0.060710  0.000244   \n",
       "\n",
       "          ag_001    ag_002    ag_003  ...    ee_002    ee_003    ee_004  \\\n",
       "aa_000  0.143153  0.285815  0.495529  ...  0.735324  0.739211  0.717810   \n",
       "ab_000  0.013658  0.050068  0.068100  ...  0.062280  0.098808  0.068790   \n",
       "ac_000 -0.001088 -0.016665 -0.038680  ... -0.013692 -0.008111 -0.009849   \n",
       "ad_000 -0.000131 -0.000222 -0.000423  ... -0.002090 -0.002047 -0.001940   \n",
       "ae_000 -0.000832  0.005057  0.034163  ...  0.017338  0.024905  0.017311   \n",
       "...          ...       ...       ...  ...       ...       ...       ...   \n",
       "ee_007  0.044186  0.182990  0.505565  ...  0.454833  0.446803  0.437682   \n",
       "ee_008  0.004878  0.009466  0.021151  ...  0.453811  0.481392  0.459517   \n",
       "ee_009 -0.004309 -0.009498 -0.019311  ...  0.228248  0.239302  0.224638   \n",
       "ef_000  0.002875  0.011824  0.020560  ...  0.007118  0.017480  0.005835   \n",
       "eg_000  0.010930  0.034202  0.024210  ...  0.008843  0.013671  0.014528   \n",
       "\n",
       "          ee_005    ee_006    ee_007    ee_008    ee_009    ef_000    eg_000  \n",
       "aa_000  0.727240  0.726984  0.606232  0.471707  0.248039  0.019865  0.037099  \n",
       "ab_000  0.078091  0.048717  0.023867  0.039369  0.074119  0.055590  0.162948  \n",
       "ac_000 -0.011206 -0.021430 -0.029417  0.016908  0.024354 -0.006571  0.014228  \n",
       "ad_000 -0.001667 -0.001398 -0.000829 -0.002161 -0.001050 -0.000102 -0.000120  \n",
       "ae_000  0.039967  0.085884  0.052357 -0.010850 -0.008206  0.070886  0.041715  \n",
       "...          ...       ...       ...       ...       ...       ...       ...  \n",
       "ee_007  0.379892  0.545929  1.000000  0.224938  0.061478 -0.000715  0.002708  \n",
       "ee_008  0.406920  0.373871  0.224938  1.000000  0.710056 -0.006991 -0.002833  \n",
       "ee_009  0.190667  0.163792  0.061478  0.710056  1.000000 -0.003942 -0.000907  \n",
       "ef_000  0.050270  0.008461 -0.000715 -0.006991 -0.003942  1.000000  0.282184  \n",
       "eg_000  0.018663  0.033091  0.002708 -0.002833 -0.000907  0.282184  1.000000  \n",
       "\n",
       "[170 rows x 170 columns]"
      ]
     },
     "execution_count": 20,
     "metadata": {},
     "output_type": "execute_result"
    }
   ],
   "source": [
    "train_data.corr()"
   ]
  },
  {
   "cell_type": "code",
   "execution_count": 17,
   "metadata": {},
   "outputs": [
    {
     "data": {
      "text/html": [
       "<div>\n",
       "<style scoped>\n",
       "    .dataframe tbody tr th:only-of-type {\n",
       "        vertical-align: middle;\n",
       "    }\n",
       "\n",
       "    .dataframe tbody tr th {\n",
       "        vertical-align: top;\n",
       "    }\n",
       "\n",
       "    .dataframe thead th {\n",
       "        text-align: right;\n",
       "    }\n",
       "</style>\n",
       "<table border=\"1\" class=\"dataframe\">\n",
       "  <thead>\n",
       "    <tr style=\"text-align: right;\">\n",
       "      <th></th>\n",
       "      <th>class</th>\n",
       "      <th>aa_000</th>\n",
       "      <th>ab_000</th>\n",
       "      <th>ac_000</th>\n",
       "      <th>ad_000</th>\n",
       "      <th>ae_000</th>\n",
       "      <th>af_000</th>\n",
       "      <th>ag_000</th>\n",
       "      <th>ag_001</th>\n",
       "      <th>ag_002</th>\n",
       "      <th>...</th>\n",
       "      <th>ee_002</th>\n",
       "      <th>ee_003</th>\n",
       "      <th>ee_004</th>\n",
       "      <th>ee_005</th>\n",
       "      <th>ee_006</th>\n",
       "      <th>ee_007</th>\n",
       "      <th>ee_008</th>\n",
       "      <th>ee_009</th>\n",
       "      <th>ef_000</th>\n",
       "      <th>eg_000</th>\n",
       "    </tr>\n",
       "  </thead>\n",
       "  <tbody>\n",
       "    <tr>\n",
       "      <th>49544</th>\n",
       "      <td>pos</td>\n",
       "      <td>175130</td>\n",
       "      <td>NaN</td>\n",
       "      <td>0.0</td>\n",
       "      <td>NaN</td>\n",
       "      <td>0.0</td>\n",
       "      <td>0.0</td>\n",
       "      <td>0.0</td>\n",
       "      <td>0.0</td>\n",
       "      <td>0.0</td>\n",
       "      <td>...</td>\n",
       "      <td>270616.0</td>\n",
       "      <td>32696.0</td>\n",
       "      <td>20820.0</td>\n",
       "      <td>7234.0</td>\n",
       "      <td>6598.0</td>\n",
       "      <td>3302.0</td>\n",
       "      <td>634.0</td>\n",
       "      <td>0.0</td>\n",
       "      <td>0.0</td>\n",
       "      <td>0.0</td>\n",
       "    </tr>\n",
       "    <tr>\n",
       "      <th>7793</th>\n",
       "      <td>neg</td>\n",
       "      <td>3416</td>\n",
       "      <td>NaN</td>\n",
       "      <td>NaN</td>\n",
       "      <td>NaN</td>\n",
       "      <td>NaN</td>\n",
       "      <td>NaN</td>\n",
       "      <td>NaN</td>\n",
       "      <td>NaN</td>\n",
       "      <td>NaN</td>\n",
       "      <td>...</td>\n",
       "      <td>NaN</td>\n",
       "      <td>NaN</td>\n",
       "      <td>NaN</td>\n",
       "      <td>NaN</td>\n",
       "      <td>NaN</td>\n",
       "      <td>NaN</td>\n",
       "      <td>NaN</td>\n",
       "      <td>NaN</td>\n",
       "      <td>NaN</td>\n",
       "      <td>NaN</td>\n",
       "    </tr>\n",
       "    <tr>\n",
       "      <th>25300</th>\n",
       "      <td>neg</td>\n",
       "      <td>2224</td>\n",
       "      <td>NaN</td>\n",
       "      <td>90.0</td>\n",
       "      <td>NaN</td>\n",
       "      <td>0.0</td>\n",
       "      <td>0.0</td>\n",
       "      <td>0.0</td>\n",
       "      <td>0.0</td>\n",
       "      <td>0.0</td>\n",
       "      <td>...</td>\n",
       "      <td>12018.0</td>\n",
       "      <td>5860.0</td>\n",
       "      <td>20844.0</td>\n",
       "      <td>17908.0</td>\n",
       "      <td>17518.0</td>\n",
       "      <td>23112.0</td>\n",
       "      <td>160.0</td>\n",
       "      <td>0.0</td>\n",
       "      <td>0.0</td>\n",
       "      <td>0.0</td>\n",
       "    </tr>\n",
       "    <tr>\n",
       "      <th>21144</th>\n",
       "      <td>neg</td>\n",
       "      <td>18</td>\n",
       "      <td>0.0</td>\n",
       "      <td>46.0</td>\n",
       "      <td>32.0</td>\n",
       "      <td>0.0</td>\n",
       "      <td>0.0</td>\n",
       "      <td>0.0</td>\n",
       "      <td>0.0</td>\n",
       "      <td>0.0</td>\n",
       "      <td>...</td>\n",
       "      <td>128.0</td>\n",
       "      <td>32.0</td>\n",
       "      <td>58.0</td>\n",
       "      <td>34.0</td>\n",
       "      <td>36.0</td>\n",
       "      <td>72.0</td>\n",
       "      <td>0.0</td>\n",
       "      <td>0.0</td>\n",
       "      <td>0.0</td>\n",
       "      <td>0.0</td>\n",
       "    </tr>\n",
       "    <tr>\n",
       "      <th>47304</th>\n",
       "      <td>neg</td>\n",
       "      <td>38898</td>\n",
       "      <td>NaN</td>\n",
       "      <td>1172.0</td>\n",
       "      <td>NaN</td>\n",
       "      <td>0.0</td>\n",
       "      <td>0.0</td>\n",
       "      <td>0.0</td>\n",
       "      <td>0.0</td>\n",
       "      <td>0.0</td>\n",
       "      <td>...</td>\n",
       "      <td>271842.0</td>\n",
       "      <td>123758.0</td>\n",
       "      <td>308528.0</td>\n",
       "      <td>283880.0</td>\n",
       "      <td>227674.0</td>\n",
       "      <td>151392.0</td>\n",
       "      <td>294062.0</td>\n",
       "      <td>17574.0</td>\n",
       "      <td>0.0</td>\n",
       "      <td>0.0</td>\n",
       "    </tr>\n",
       "  </tbody>\n",
       "</table>\n",
       "<p>5 rows × 171 columns</p>\n",
       "</div>"
      ],
      "text/plain": [
       "      class  aa_000  ab_000  ac_000  ad_000  ae_000  af_000  ag_000  ag_001  \\\n",
       "49544   pos  175130     NaN     0.0     NaN     0.0     0.0     0.0     0.0   \n",
       "7793    neg    3416     NaN     NaN     NaN     NaN     NaN     NaN     NaN   \n",
       "25300   neg    2224     NaN    90.0     NaN     0.0     0.0     0.0     0.0   \n",
       "21144   neg      18     0.0    46.0    32.0     0.0     0.0     0.0     0.0   \n",
       "47304   neg   38898     NaN  1172.0     NaN     0.0     0.0     0.0     0.0   \n",
       "\n",
       "       ag_002  ...    ee_002    ee_003    ee_004    ee_005    ee_006  \\\n",
       "49544     0.0  ...  270616.0   32696.0   20820.0    7234.0    6598.0   \n",
       "7793      NaN  ...       NaN       NaN       NaN       NaN       NaN   \n",
       "25300     0.0  ...   12018.0    5860.0   20844.0   17908.0   17518.0   \n",
       "21144     0.0  ...     128.0      32.0      58.0      34.0      36.0   \n",
       "47304     0.0  ...  271842.0  123758.0  308528.0  283880.0  227674.0   \n",
       "\n",
       "         ee_007    ee_008   ee_009  ef_000  eg_000  \n",
       "49544    3302.0     634.0      0.0     0.0     0.0  \n",
       "7793        NaN       NaN      NaN     NaN     NaN  \n",
       "25300   23112.0     160.0      0.0     0.0     0.0  \n",
       "21144      72.0       0.0      0.0     0.0     0.0  \n",
       "47304  151392.0  294062.0  17574.0     0.0     0.0  \n",
       "\n",
       "[5 rows x 171 columns]"
      ]
     },
     "execution_count": 17,
     "metadata": {},
     "output_type": "execute_result"
    }
   ],
   "source": [
    "train_data.sample(5)"
   ]
  },
  {
   "cell_type": "code",
   "execution_count": 21,
   "metadata": {},
   "outputs": [],
   "source": [
    "X = train_data.drop(columns=[\"class\"], axis=0)\n",
    "Y = train_data[\"class\"]"
   ]
  },
  {
   "cell_type": "code",
   "execution_count": 24,
   "metadata": {},
   "outputs": [],
   "source": [
    "# Imputing missing values with medina values of respective attribute\n",
    "X = X.apply(lambda x: x.fillna(x.median()), axis=0)"
   ]
  },
  {
   "cell_type": "code",
   "execution_count": 26,
   "metadata": {},
   "outputs": [
    {
     "data": {
      "text/html": [
       "<div>\n",
       "<style scoped>\n",
       "    .dataframe tbody tr th:only-of-type {\n",
       "        vertical-align: middle;\n",
       "    }\n",
       "\n",
       "    .dataframe tbody tr th {\n",
       "        vertical-align: top;\n",
       "    }\n",
       "\n",
       "    .dataframe thead th {\n",
       "        text-align: right;\n",
       "    }\n",
       "</style>\n",
       "<table border=\"1\" class=\"dataframe\">\n",
       "  <thead>\n",
       "    <tr style=\"text-align: right;\">\n",
       "      <th></th>\n",
       "      <th>aa_000</th>\n",
       "      <th>ab_000</th>\n",
       "      <th>ac_000</th>\n",
       "      <th>ad_000</th>\n",
       "      <th>ae_000</th>\n",
       "      <th>af_000</th>\n",
       "      <th>ag_000</th>\n",
       "      <th>ag_001</th>\n",
       "      <th>ag_002</th>\n",
       "      <th>ag_003</th>\n",
       "      <th>...</th>\n",
       "      <th>ee_002</th>\n",
       "      <th>ee_003</th>\n",
       "      <th>ee_004</th>\n",
       "      <th>ee_005</th>\n",
       "      <th>ee_006</th>\n",
       "      <th>ee_007</th>\n",
       "      <th>ee_008</th>\n",
       "      <th>ee_009</th>\n",
       "      <th>ef_000</th>\n",
       "      <th>eg_000</th>\n",
       "    </tr>\n",
       "  </thead>\n",
       "  <tbody>\n",
       "    <tr>\n",
       "      <th>47238</th>\n",
       "      <td>10</td>\n",
       "      <td>0.0</td>\n",
       "      <td>4.0</td>\n",
       "      <td>4.0</td>\n",
       "      <td>0.0</td>\n",
       "      <td>0.0</td>\n",
       "      <td>0.0</td>\n",
       "      <td>0.0</td>\n",
       "      <td>0.0</td>\n",
       "      <td>0.0</td>\n",
       "      <td>...</td>\n",
       "      <td>78.0</td>\n",
       "      <td>0.0</td>\n",
       "      <td>0.0</td>\n",
       "      <td>0.0</td>\n",
       "      <td>0.0</td>\n",
       "      <td>0.0</td>\n",
       "      <td>0.0</td>\n",
       "      <td>0.0</td>\n",
       "      <td>0.0</td>\n",
       "      <td>0.0</td>\n",
       "    </tr>\n",
       "    <tr>\n",
       "      <th>25624</th>\n",
       "      <td>10</td>\n",
       "      <td>0.0</td>\n",
       "      <td>20.0</td>\n",
       "      <td>20.0</td>\n",
       "      <td>0.0</td>\n",
       "      <td>2.0</td>\n",
       "      <td>0.0</td>\n",
       "      <td>0.0</td>\n",
       "      <td>0.0</td>\n",
       "      <td>0.0</td>\n",
       "      <td>...</td>\n",
       "      <td>102.0</td>\n",
       "      <td>40.0</td>\n",
       "      <td>114.0</td>\n",
       "      <td>52.0</td>\n",
       "      <td>22.0</td>\n",
       "      <td>0.0</td>\n",
       "      <td>0.0</td>\n",
       "      <td>0.0</td>\n",
       "      <td>0.0</td>\n",
       "      <td>0.0</td>\n",
       "    </tr>\n",
       "    <tr>\n",
       "      <th>41350</th>\n",
       "      <td>8</td>\n",
       "      <td>0.0</td>\n",
       "      <td>4.0</td>\n",
       "      <td>2.0</td>\n",
       "      <td>0.0</td>\n",
       "      <td>0.0</td>\n",
       "      <td>0.0</td>\n",
       "      <td>0.0</td>\n",
       "      <td>0.0</td>\n",
       "      <td>0.0</td>\n",
       "      <td>...</td>\n",
       "      <td>42.0</td>\n",
       "      <td>4.0</td>\n",
       "      <td>16.0</td>\n",
       "      <td>40.0</td>\n",
       "      <td>32.0</td>\n",
       "      <td>38.0</td>\n",
       "      <td>0.0</td>\n",
       "      <td>0.0</td>\n",
       "      <td>0.0</td>\n",
       "      <td>0.0</td>\n",
       "    </tr>\n",
       "    <tr>\n",
       "      <th>23454</th>\n",
       "      <td>62742</td>\n",
       "      <td>0.0</td>\n",
       "      <td>1094.0</td>\n",
       "      <td>910.0</td>\n",
       "      <td>0.0</td>\n",
       "      <td>0.0</td>\n",
       "      <td>0.0</td>\n",
       "      <td>0.0</td>\n",
       "      <td>0.0</td>\n",
       "      <td>0.0</td>\n",
       "      <td>...</td>\n",
       "      <td>414734.0</td>\n",
       "      <td>176800.0</td>\n",
       "      <td>321144.0</td>\n",
       "      <td>284638.0</td>\n",
       "      <td>223648.0</td>\n",
       "      <td>224466.0</td>\n",
       "      <td>802048.0</td>\n",
       "      <td>148066.0</td>\n",
       "      <td>0.0</td>\n",
       "      <td>0.0</td>\n",
       "    </tr>\n",
       "    <tr>\n",
       "      <th>31438</th>\n",
       "      <td>28</td>\n",
       "      <td>0.0</td>\n",
       "      <td>22.0</td>\n",
       "      <td>20.0</td>\n",
       "      <td>0.0</td>\n",
       "      <td>0.0</td>\n",
       "      <td>0.0</td>\n",
       "      <td>0.0</td>\n",
       "      <td>0.0</td>\n",
       "      <td>0.0</td>\n",
       "      <td>...</td>\n",
       "      <td>140.0</td>\n",
       "      <td>18.0</td>\n",
       "      <td>42.0</td>\n",
       "      <td>14.0</td>\n",
       "      <td>10.0</td>\n",
       "      <td>42.0</td>\n",
       "      <td>0.0</td>\n",
       "      <td>0.0</td>\n",
       "      <td>0.0</td>\n",
       "      <td>0.0</td>\n",
       "    </tr>\n",
       "  </tbody>\n",
       "</table>\n",
       "<p>5 rows × 170 columns</p>\n",
       "</div>"
      ],
      "text/plain": [
       "       aa_000  ab_000  ac_000  ad_000  ae_000  af_000  ag_000  ag_001  ag_002  \\\n",
       "47238      10     0.0     4.0     4.0     0.0     0.0     0.0     0.0     0.0   \n",
       "25624      10     0.0    20.0    20.0     0.0     2.0     0.0     0.0     0.0   \n",
       "41350       8     0.0     4.0     2.0     0.0     0.0     0.0     0.0     0.0   \n",
       "23454   62742     0.0  1094.0   910.0     0.0     0.0     0.0     0.0     0.0   \n",
       "31438      28     0.0    22.0    20.0     0.0     0.0     0.0     0.0     0.0   \n",
       "\n",
       "       ag_003  ...    ee_002    ee_003    ee_004    ee_005    ee_006  \\\n",
       "47238     0.0  ...      78.0       0.0       0.0       0.0       0.0   \n",
       "25624     0.0  ...     102.0      40.0     114.0      52.0      22.0   \n",
       "41350     0.0  ...      42.0       4.0      16.0      40.0      32.0   \n",
       "23454     0.0  ...  414734.0  176800.0  321144.0  284638.0  223648.0   \n",
       "31438     0.0  ...     140.0      18.0      42.0      14.0      10.0   \n",
       "\n",
       "         ee_007    ee_008    ee_009  ef_000  eg_000  \n",
       "47238       0.0       0.0       0.0     0.0     0.0  \n",
       "25624       0.0       0.0       0.0     0.0     0.0  \n",
       "41350      38.0       0.0       0.0     0.0     0.0  \n",
       "23454  224466.0  802048.0  148066.0     0.0     0.0  \n",
       "31438      42.0       0.0       0.0     0.0     0.0  \n",
       "\n",
       "[5 rows x 170 columns]"
      ]
     },
     "execution_count": 26,
     "metadata": {},
     "output_type": "execute_result"
    }
   ],
   "source": [
    "X.sample(5)"
   ]
  },
  {
   "cell_type": "code",
   "execution_count": 28,
   "metadata": {},
   "outputs": [
    {
     "data": {
      "text/plain": [
       "aa_000    0\n",
       "ab_000    0\n",
       "ac_000    0\n",
       "ad_000    0\n",
       "ae_000    0\n",
       "         ..\n",
       "ee_007    0\n",
       "ee_008    0\n",
       "ee_009    0\n",
       "ef_000    0\n",
       "eg_000    0\n",
       "Length: 170, dtype: int64"
      ]
     },
     "execution_count": 28,
     "metadata": {},
     "output_type": "execute_result"
    }
   ],
   "source": [
    "X.isnull().sum()"
   ]
  },
  {
   "cell_type": "code",
   "execution_count": 29,
   "metadata": {},
   "outputs": [
    {
     "data": {
      "text/plain": [
       "aa_000    2.114990e+10\n",
       "ab_000    2.847041e+00\n",
       "ac_000    6.033600e+17\n",
       "ad_000    1.228169e+15\n",
       "ae_000    2.501076e+04\n",
       "              ...     \n",
       "ee_007    2.953811e+12\n",
       "ee_008    2.000008e+11\n",
       "ee_009    2.229019e+09\n",
       "ef_000    1.822069e+01\n",
       "eg_000    7.444312e+01\n",
       "Length: 170, dtype: float64"
      ]
     },
     "execution_count": 29,
     "metadata": {},
     "output_type": "execute_result"
    }
   ],
   "source": [
    "X.var()"
   ]
  },
  {
   "cell_type": "code",
   "execution_count": 30,
   "metadata": {},
   "outputs": [
    {
     "data": {
      "text/plain": [
       "aa_000    1.454301e+05\n",
       "ab_000    1.687318e+00\n",
       "ac_000    7.767625e+08\n",
       "ad_000    3.504525e+07\n",
       "ae_000    1.581479e+02\n",
       "              ...     \n",
       "ee_007    1.718666e+06\n",
       "ee_008    4.472145e+05\n",
       "ee_009    4.721249e+04\n",
       "ef_000    4.268570e+00\n",
       "eg_000    8.628043e+00\n",
       "Length: 170, dtype: float64"
      ]
     },
     "execution_count": 30,
     "metadata": {},
     "output_type": "execute_result"
    }
   ],
   "source": [
    "X.std()"
   ]
  },
  {
   "attachments": {},
   "cell_type": "markdown",
   "metadata": {},
   "source": [
    "- We have more than 150 features and also these are operational data coming out from a software with no name due to proprietary reasons (the attribute names of the data have been anonymized for proprietary reasons).\n",
    "\n",
    "- Variance of some features are almost same and few has very high variance,\n",
    "- we will try to extract new set of features from existing ones in such a way that more variance can be captured from the higher dimension."
   ]
  },
  {
   "attachments": {},
   "cell_type": "markdown",
   "metadata": {},
   "source": [
    "# Feature Extraction\n",
    "- Principal Componet Analysis\n",
    "- https://github.com/datasciencedevotee/Machine-Learning/blob/main/PCA/PCA_Step_by_Step.ipynb"
   ]
  },
  {
   "cell_type": "code",
   "execution_count": 37,
   "metadata": {},
   "outputs": [
    {
     "data": {
      "text/plain": [
       "neg    59000\n",
       "pos     1000\n",
       "Name: class, dtype: int64"
      ]
     },
     "execution_count": 37,
     "metadata": {},
     "output_type": "execute_result"
    }
   ],
   "source": [
    "Y.value_counts()"
   ]
  },
  {
   "attachments": {},
   "cell_type": "markdown",
   "metadata": {},
   "source": [
    "- Positive class: The datasets positive class consists of component failures for a specific component of the APS system. \n",
    "- Negative class: The negative class consists of trucks with failures for components not related to the APS."
   ]
  },
  {
   "cell_type": "code",
   "execution_count": 38,
   "metadata": {},
   "outputs": [],
   "source": [
    "def target_label_encoding(y):\n",
    "    if y == \"neg\":\n",
    "        return 0\n",
    "    else:\n",
    "        return 1"
   ]
  },
  {
   "cell_type": "code",
   "execution_count": 40,
   "metadata": {},
   "outputs": [],
   "source": [
    "Y = Y.apply(target_label_encoding)"
   ]
  },
  {
   "cell_type": "code",
   "execution_count": 41,
   "metadata": {},
   "outputs": [],
   "source": [
    "# Let's make a validation set which we will use for hyperparameter tunning\n",
    "from sklearn.model_selection import train_test_split\n",
    "X_train, X_val, y_train,y_val = train_test_split(X,Y, test_size=0.2, random_state=42)"
   ]
  },
  {
   "cell_type": "code",
   "execution_count": 43,
   "metadata": {},
   "outputs": [
    {
     "name": "stdout",
     "output_type": "stream",
     "text": [
      "Shape of X_train: (48000, 170)\n",
      "Shape of X_test: (12000, 170)\n"
     ]
    }
   ],
   "source": [
    "print(f\"Shape of X_train: {X_train.shape}\")\n",
    "print(f\"Shape of X_test: {X_val.shape}\")"
   ]
  },
  {
   "cell_type": "code",
   "execution_count": 42,
   "metadata": {},
   "outputs": [],
   "source": [
    "from sklearn.preprocessing import StandardScaler\n",
    "scaler = StandardScaler()"
   ]
  },
  {
   "cell_type": "code",
   "execution_count": 44,
   "metadata": {},
   "outputs": [],
   "source": [
    "X_train = scaler.fit_transform(X_train)\n",
    "X_val = scaler.transform(X_val)"
   ]
  },
  {
   "cell_type": "code",
   "execution_count": 45,
   "metadata": {},
   "outputs": [],
   "source": [
    "from sklearn.decomposition import PCA"
   ]
  },
  {
   "attachments": {},
   "cell_type": "markdown",
   "metadata": {},
   "source": [
    "#### Now lets find optimum numer of components"
   ]
  },
  {
   "cell_type": "code",
   "execution_count": 46,
   "metadata": {},
   "outputs": [],
   "source": [
    "pca = PCA(n_components=None)\n",
    "X_train_trf = pca.fit_transform(X_train)\n",
    "X_val_trf = pca.transform(X_val)"
   ]
  },
  {
   "cell_type": "code",
   "execution_count": 47,
   "metadata": {},
   "outputs": [
    {
     "data": {
      "image/png": "[encoded data removed]",
      "text/plain": [
       "<Figure size 640x480 with 1 Axes>"
      ]
     },
     "metadata": {},
     "output_type": "display_data"
    }
   ],
   "source": [
    "plt.plot(np.cumsum(pca.explained_variance_ratio_))\n",
    "plt.show()"
   ]
  },
  {
   "attachments": {},
   "cell_type": "markdown",
   "metadata": {},
   "source": [
    "- From above graph we can se that 90% variance is being calculated by 60 to 65 components"
   ]
  },
  {
   "cell_type": "code",
   "execution_count": 52,
   "metadata": {},
   "outputs": [],
   "source": [
    "# we will go with 65 principal components\n",
    "pca = PCA(n_components=65)\n",
    "X_train_trf = pca.fit_transform(X_train)\n",
    "X_val_trf = pca.transform(X_val)"
   ]
  },
  {
   "attachments": {},
   "cell_type": "markdown",
   "metadata": {},
   "source": [
    "### KNeighborsClassifier"
   ]
  },
  {
   "cell_type": "code",
   "execution_count": 73,
   "metadata": {},
   "outputs": [],
   "source": [
    "from sklearn.neighbors import KNeighborsClassifier\n",
    "from sklearn.model_selection import cross_val_score"
   ]
  },
  {
   "cell_type": "code",
   "execution_count": 58,
   "metadata": {},
   "outputs": [],
   "source": [
    "knn = KNeighborsClassifier()"
   ]
  },
  {
   "cell_type": "code",
   "execution_count": 59,
   "metadata": {},
   "outputs": [
    {
     "data": {
      "text/html": [
       "<style>#sk-container-id-1 {color: black;background-color: white;}#sk-container-id-1 pre{padding: 0;}#sk-container-id-1 div.sk-toggleable {background-color: white;}#sk-container-id-1 label.sk-toggleable__label {cursor: pointer;display: block;width: 100%;margin-bottom: 0;padding: 0.3em;box-sizing: border-box;text-align: center;}#sk-container-id-1 label.sk-toggleable__label-arrow:before {content: \"▸\";float: left;margin-right: 0.25em;color: #696969;}#sk-container-id-1 label.sk-toggleable__label-arrow:hover:before {color: black;}#sk-container-id-1 div.sk-estimator:hover label.sk-toggleable__label-arrow:before {color: black;}#sk-container-id-1 div.sk-toggleable__content {max-height: 0;max-width: 0;overflow: hidden;text-align: left;background-color: #f0f8ff;}#sk-container-id-1 div.sk-toggleable__content pre {margin: 0.2em;color: black;border-radius: 0.25em;background-color: #f0f8ff;}#sk-container-id-1 input.sk-toggleable__control:checked~div.sk-toggleable__content {max-height: 200px;max-width: 100%;overflow: auto;}#sk-container-id-1 input.sk-toggleable__control:checked~label.sk-toggleable__label-arrow:before {content: \"▾\";}#sk-container-id-1 div.sk-estimator input.sk-toggleable__control:checked~label.sk-toggleable__label {background-color: #d4ebff;}#sk-container-id-1 div.sk-label input.sk-toggleable__control:checked~label.sk-toggleable__label {background-color: #d4ebff;}#sk-container-id-1 input.sk-hidden--visually {border: 0;clip: rect(1px 1px 1px 1px);clip: rect(1px, 1px, 1px, 1px);height: 1px;margin: -1px;overflow: hidden;padding: 0;position: absolute;width: 1px;}#sk-container-id-1 div.sk-estimator {font-family: monospace;background-color: #f0f8ff;border: 1px dotted black;border-radius: 0.25em;box-sizing: border-box;margin-bottom: 0.5em;}#sk-container-id-1 div.sk-estimator:hover {background-color: #d4ebff;}#sk-container-id-1 div.sk-parallel-item::after {content: \"\";width: 100%;border-bottom: 1px solid gray;flex-grow: 1;}#sk-container-id-1 div.sk-label:hover label.sk-toggleable__label {background-color: #d4ebff;}#sk-container-id-1 div.sk-serial::before {content: \"\";position: absolute;border-left: 1px solid gray;box-sizing: border-box;top: 0;bottom: 0;left: 50%;z-index: 0;}#sk-container-id-1 div.sk-serial {display: flex;flex-direction: column;align-items: center;background-color: white;padding-right: 0.2em;padding-left: 0.2em;position: relative;}#sk-container-id-1 div.sk-item {position: relative;z-index: 1;}#sk-container-id-1 div.sk-parallel {display: flex;align-items: stretch;justify-content: center;background-color: white;position: relative;}#sk-container-id-1 div.sk-item::before, #sk-container-id-1 div.sk-parallel-item::before {content: \"\";position: absolute;border-left: 1px solid gray;box-sizing: border-box;top: 0;bottom: 0;left: 50%;z-index: -1;}#sk-container-id-1 div.sk-parallel-item {display: flex;flex-direction: column;z-index: 1;position: relative;background-color: white;}#sk-container-id-1 div.sk-parallel-item:first-child::after {align-self: flex-end;width: 50%;}#sk-container-id-1 div.sk-parallel-item:last-child::after {align-self: flex-start;width: 50%;}#sk-container-id-1 div.sk-parallel-item:only-child::after {width: 0;}#sk-container-id-1 div.sk-dashed-wrapped {border: 1px dashed gray;margin: 0 0.4em 0.5em 0.4em;box-sizing: border-box;padding-bottom: 0.4em;background-color: white;}#sk-container-id-1 div.sk-label label {font-family: monospace;font-weight: bold;display: inline-block;line-height: 1.2em;}#sk-container-id-1 div.sk-label-container {text-align: center;}#sk-container-id-1 div.sk-container {/* jupyter's `normalize.less` sets `[hidden] { display: none; }` but bootstrap.min.css set `[hidden] { display: none !important; }` so we also need the `!important` here to be able to override the default hidden behavior on the sphinx rendered scikit-learn.org. See: https://github.com/scikit-learn/scikit-learn/issues/21755 */display: inline-block !important;position: relative;}#sk-container-id-1 div.sk-text-repr-fallback {display: none;}</style><div id=\"sk-container-id-1\" class=\"sk-top-container\"><div class=\"sk-text-repr-fallback\"><pre>KNeighborsClassifier()</pre><b>In a Jupyter environment, please rerun this cell to show the HTML representation or trust the notebook. <br />On GitHub, the HTML representation is unable to render, please try loading this page with nbviewer.org.</b></div><div class=\"sk-container\" hidden><div class=\"sk-item\"><div class=\"sk-estimator sk-toggleable\"><input class=\"sk-toggleable__control sk-hidden--visually\" id=\"sk-estimator-id-1\" type=\"checkbox\" checked><label for=\"sk-estimator-id-1\" class=\"sk-toggleable__label sk-toggleable__label-arrow\">KNeighborsClassifier</label><div class=\"sk-toggleable__content\"><pre>KNeighborsClassifier()</pre></div></div></div></div></div>"
      ],
      "text/plain": [
       "KNeighborsClassifier()"
      ]
     },
     "execution_count": 59,
     "metadata": {},
     "output_type": "execute_result"
    }
   ],
   "source": [
    "knn.fit(X_train_trf,y_train)"
   ]
  },
  {
   "cell_type": "code",
   "execution_count": 60,
   "metadata": {},
   "outputs": [
    {
     "name": "stdout",
     "output_type": "stream",
     "text": [
      "Total time take for execution: 2.178431510925293\n"
     ]
    }
   ],
   "source": [
    "import time\n",
    "start = time.time()\n",
    "y_pred = knn.predict(X_val_trf)\n",
    "print(f\"Total time take for execution: {(time.time() - start)}\")"
   ]
  },
  {
   "cell_type": "code",
   "execution_count": 62,
   "metadata": {},
   "outputs": [
    {
     "data": {
      "text/plain": [
       "98.93333333333332"
      ]
     },
     "execution_count": 62,
     "metadata": {},
     "output_type": "execute_result"
    }
   ],
   "source": [
    "from sklearn.metrics import accuracy_score, classification_report, confusion_matrix\n",
    "accuracy_score(y_val, y_pred)*100"
   ]
  },
  {
   "cell_type": "code",
   "execution_count": 64,
   "metadata": {},
   "outputs": [
    {
     "name": "stdout",
     "output_type": "stream",
     "text": [
      "              precision    recall  f1-score   support\n",
      "\n",
      "           0       0.99      1.00      0.99     11788\n",
      "           1       0.80      0.52      0.63       212\n",
      "\n",
      "    accuracy                           0.99     12000\n",
      "   macro avg       0.90      0.76      0.81     12000\n",
      "weighted avg       0.99      0.99      0.99     12000\n",
      "\n"
     ]
    }
   ],
   "source": [
    "print(classification_report(y_val, y_pred))"
   ]
  },
  {
   "cell_type": "code",
   "execution_count": 66,
   "metadata": {},
   "outputs": [
    {
     "data": {
      "text/plain": [
       "array([[11761,    27],\n",
       "       [  101,   111]])"
      ]
     },
     "execution_count": 66,
     "metadata": {},
     "output_type": "execute_result"
    }
   ],
   "source": [
    "confusion_matrix(y_true=y_val, y_pred=y_pred)"
   ]
  },
  {
   "cell_type": "code",
   "execution_count": 117,
   "metadata": {},
   "outputs": [
    {
     "data": {
      "text/plain": [
       "50770"
      ]
     },
     "execution_count": 117,
     "metadata": {},
     "output_type": "execute_result"
    }
   ],
   "source": [
    "# Challenge Metrics\n",
    "# for cost value refer  aps_failure_description.txt\n",
    "\n",
    "cost = 27*10+101*500\n",
    "cost"
   ]
  },
  {
   "cell_type": "code",
   "execution_count": 74,
   "metadata": {},
   "outputs": [
    {
     "data": {
      "text/plain": [
       "array([0.99104167, 0.99      , 0.99041667, 0.990625  , 0.99      ,\n",
       "       0.98916667, 0.99041667, 0.99104167, 0.99041667, 0.99145833])"
      ]
     },
     "execution_count": 74,
     "metadata": {},
     "output_type": "execute_result"
    }
   ],
   "source": [
    "cross_val_score(knn, X_train_trf, y_train, cv=10)"
   ]
  },
  {
   "attachments": {},
   "cell_type": "markdown",
   "metadata": {},
   "source": [
    "### Decision Tree"
   ]
  },
  {
   "cell_type": "code",
   "execution_count": 67,
   "metadata": {},
   "outputs": [],
   "source": [
    "from sklearn.tree import DecisionTreeClassifier\n",
    "dt_classifier = DecisionTreeClassifier()"
   ]
  },
  {
   "cell_type": "code",
   "execution_count": 68,
   "metadata": {},
   "outputs": [
    {
     "data": {
      "text/html": [
       "<style>#sk-container-id-2 {color: black;background-color: white;}#sk-container-id-2 pre{padding: 0;}#sk-container-id-2 div.sk-toggleable {background-color: white;}#sk-container-id-2 label.sk-toggleable__label {cursor: pointer;display: block;width: 100%;margin-bottom: 0;padding: 0.3em;box-sizing: border-box;text-align: center;}#sk-container-id-2 label.sk-toggleable__label-arrow:before {content: \"▸\";float: left;margin-right: 0.25em;color: #696969;}#sk-container-id-2 label.sk-toggleable__label-arrow:hover:before {color: black;}#sk-container-id-2 div.sk-estimator:hover label.sk-toggleable__label-arrow:before {color: black;}#sk-container-id-2 div.sk-toggleable__content {max-height: 0;max-width: 0;overflow: hidden;text-align: left;background-color: #f0f8ff;}#sk-container-id-2 div.sk-toggleable__content pre {margin: 0.2em;color: black;border-radius: 0.25em;background-color: #f0f8ff;}#sk-container-id-2 input.sk-toggleable__control:checked~div.sk-toggleable__content {max-height: 200px;max-width: 100%;overflow: auto;}#sk-container-id-2 input.sk-toggleable__control:checked~label.sk-toggleable__label-arrow:before {content: \"▾\";}#sk-container-id-2 div.sk-estimator input.sk-toggleable__control:checked~label.sk-toggleable__label {background-color: #d4ebff;}#sk-container-id-2 div.sk-label input.sk-toggleable__control:checked~label.sk-toggleable__label {background-color: #d4ebff;}#sk-container-id-2 input.sk-hidden--visually {border: 0;clip: rect(1px 1px 1px 1px);clip: rect(1px, 1px, 1px, 1px);height: 1px;margin: -1px;overflow: hidden;padding: 0;position: absolute;width: 1px;}#sk-container-id-2 div.sk-estimator {font-family: monospace;background-color: #f0f8ff;border: 1px dotted black;border-radius: 0.25em;box-sizing: border-box;margin-bottom: 0.5em;}#sk-container-id-2 div.sk-estimator:hover {background-color: #d4ebff;}#sk-container-id-2 div.sk-parallel-item::after {content: \"\";width: 100%;border-bottom: 1px solid gray;flex-grow: 1;}#sk-container-id-2 div.sk-label:hover label.sk-toggleable__label {background-color: #d4ebff;}#sk-container-id-2 div.sk-serial::before {content: \"\";position: absolute;border-left: 1px solid gray;box-sizing: border-box;top: 0;bottom: 0;left: 50%;z-index: 0;}#sk-container-id-2 div.sk-serial {display: flex;flex-direction: column;align-items: center;background-color: white;padding-right: 0.2em;padding-left: 0.2em;position: relative;}#sk-container-id-2 div.sk-item {position: relative;z-index: 1;}#sk-container-id-2 div.sk-parallel {display: flex;align-items: stretch;justify-content: center;background-color: white;position: relative;}#sk-container-id-2 div.sk-item::before, #sk-container-id-2 div.sk-parallel-item::before {content: \"\";position: absolute;border-left: 1px solid gray;box-sizing: border-box;top: 0;bottom: 0;left: 50%;z-index: -1;}#sk-container-id-2 div.sk-parallel-item {display: flex;flex-direction: column;z-index: 1;position: relative;background-color: white;}#sk-container-id-2 div.sk-parallel-item:first-child::after {align-self: flex-end;width: 50%;}#sk-container-id-2 div.sk-parallel-item:last-child::after {align-self: flex-start;width: 50%;}#sk-container-id-2 div.sk-parallel-item:only-child::after {width: 0;}#sk-container-id-2 div.sk-dashed-wrapped {border: 1px dashed gray;margin: 0 0.4em 0.5em 0.4em;box-sizing: border-box;padding-bottom: 0.4em;background-color: white;}#sk-container-id-2 div.sk-label label {font-family: monospace;font-weight: bold;display: inline-block;line-height: 1.2em;}#sk-container-id-2 div.sk-label-container {text-align: center;}#sk-container-id-2 div.sk-container {/* jupyter's `normalize.less` sets `[hidden] { display: none; }` but bootstrap.min.css set `[hidden] { display: none !important; }` so we also need the `!important` here to be able to override the default hidden behavior on the sphinx rendered scikit-learn.org. See: https://github.com/scikit-learn/scikit-learn/issues/21755 */display: inline-block !important;position: relative;}#sk-container-id-2 div.sk-text-repr-fallback {display: none;}</style><div id=\"sk-container-id-2\" class=\"sk-top-container\"><div class=\"sk-text-repr-fallback\"><pre>DecisionTreeClassifier()</pre><b>In a Jupyter environment, please rerun this cell to show the HTML representation or trust the notebook. <br />On GitHub, the HTML representation is unable to render, please try loading this page with nbviewer.org.</b></div><div class=\"sk-container\" hidden><div class=\"sk-item\"><div class=\"sk-estimator sk-toggleable\"><input class=\"sk-toggleable__control sk-hidden--visually\" id=\"sk-estimator-id-2\" type=\"checkbox\" checked><label for=\"sk-estimator-id-2\" class=\"sk-toggleable__label sk-toggleable__label-arrow\">DecisionTreeClassifier</label><div class=\"sk-toggleable__content\"><pre>DecisionTreeClassifier()</pre></div></div></div></div></div>"
      ],
      "text/plain": [
       "DecisionTreeClassifier()"
      ]
     },
     "execution_count": 68,
     "metadata": {},
     "output_type": "execute_result"
    }
   ],
   "source": [
    "dt_classifier.fit(X_train_trf,y_train)"
   ]
  },
  {
   "cell_type": "code",
   "execution_count": 69,
   "metadata": {},
   "outputs": [],
   "source": [
    "y_pred = dt_classifier.predict(X_val_trf)"
   ]
  },
  {
   "cell_type": "code",
   "execution_count": 70,
   "metadata": {},
   "outputs": [
    {
     "data": {
      "text/plain": [
       "98.5"
      ]
     },
     "execution_count": 70,
     "metadata": {},
     "output_type": "execute_result"
    }
   ],
   "source": [
    "accuracy_score(y_val, y_pred)*100"
   ]
  },
  {
   "cell_type": "code",
   "execution_count": 71,
   "metadata": {},
   "outputs": [
    {
     "name": "stdout",
     "output_type": "stream",
     "text": [
      "              precision    recall  f1-score   support\n",
      "\n",
      "           0       0.99      0.99      0.99     11788\n",
      "           1       0.57      0.60      0.59       212\n",
      "\n",
      "    accuracy                           0.98     12000\n",
      "   macro avg       0.78      0.80      0.79     12000\n",
      "weighted avg       0.99      0.98      0.99     12000\n",
      "\n"
     ]
    }
   ],
   "source": [
    "print(classification_report(y_val, y_pred))"
   ]
  },
  {
   "cell_type": "code",
   "execution_count": 72,
   "metadata": {},
   "outputs": [
    {
     "data": {
      "text/plain": [
       "array([[11693,    95],\n",
       "       [   85,   127]])"
      ]
     },
     "execution_count": 72,
     "metadata": {},
     "output_type": "execute_result"
    }
   ],
   "source": [
    "confusion_matrix(y_true=y_val, y_pred=y_pred)"
   ]
  },
  {
   "cell_type": "code",
   "execution_count": 118,
   "metadata": {},
   "outputs": [
    {
     "data": {
      "text/plain": [
       "43450"
      ]
     },
     "execution_count": 118,
     "metadata": {},
     "output_type": "execute_result"
    }
   ],
   "source": [
    "# Challenge Metrics\n",
    "# for cost value refer  aps_failure_description.txt\n",
    "\n",
    "cost = 95*10+85*500\n",
    "cost"
   ]
  },
  {
   "cell_type": "code",
   "execution_count": 75,
   "metadata": {},
   "outputs": [
    {
     "data": {
      "text/plain": [
       "array([0.985625  , 0.985625  , 0.9875    , 0.98833333, 0.98770833,\n",
       "       0.985     , 0.98666667, 0.98354167, 0.98625   , 0.98583333])"
      ]
     },
     "execution_count": 75,
     "metadata": {},
     "output_type": "execute_result"
    }
   ],
   "source": [
    "cross_val_score(dt_classifier, X_train_trf, y_train, cv=10)"
   ]
  },
  {
   "attachments": {},
   "cell_type": "markdown",
   "metadata": {},
   "source": [
    "### Random Forest"
   ]
  },
  {
   "cell_type": "code",
   "execution_count": 78,
   "metadata": {},
   "outputs": [],
   "source": [
    "from sklearn.ensemble import RandomForestClassifier\n",
    "rf_clf = RandomForestClassifier(max_depth=None, random_state=0)"
   ]
  },
  {
   "cell_type": "code",
   "execution_count": 79,
   "metadata": {},
   "outputs": [
    {
     "data": {
      "text/html": [
       "<style>#sk-container-id-3 {color: black;background-color: white;}#sk-container-id-3 pre{padding: 0;}#sk-container-id-3 div.sk-toggleable {background-color: white;}#sk-container-id-3 label.sk-toggleable__label {cursor: pointer;display: block;width: 100%;margin-bottom: 0;padding: 0.3em;box-sizing: border-box;text-align: center;}#sk-container-id-3 label.sk-toggleable__label-arrow:before {content: \"▸\";float: left;margin-right: 0.25em;color: #696969;}#sk-container-id-3 label.sk-toggleable__label-arrow:hover:before {color: black;}#sk-container-id-3 div.sk-estimator:hover label.sk-toggleable__label-arrow:before {color: black;}#sk-container-id-3 div.sk-toggleable__content {max-height: 0;max-width: 0;overflow: hidden;text-align: left;background-color: #f0f8ff;}#sk-container-id-3 div.sk-toggleable__content pre {margin: 0.2em;color: black;border-radius: 0.25em;background-color: #f0f8ff;}#sk-container-id-3 input.sk-toggleable__control:checked~div.sk-toggleable__content {max-height: 200px;max-width: 100%;overflow: auto;}#sk-container-id-3 input.sk-toggleable__control:checked~label.sk-toggleable__label-arrow:before {content: \"▾\";}#sk-container-id-3 div.sk-estimator input.sk-toggleable__control:checked~label.sk-toggleable__label {background-color: #d4ebff;}#sk-container-id-3 div.sk-label input.sk-toggleable__control:checked~label.sk-toggleable__label {background-color: #d4ebff;}#sk-container-id-3 input.sk-hidden--visually {border: 0;clip: rect(1px 1px 1px 1px);clip: rect(1px, 1px, 1px, 1px);height: 1px;margin: -1px;overflow: hidden;padding: 0;position: absolute;width: 1px;}#sk-container-id-3 div.sk-estimator {font-family: monospace;background-color: #f0f8ff;border: 1px dotted black;border-radius: 0.25em;box-sizing: border-box;margin-bottom: 0.5em;}#sk-container-id-3 div.sk-estimator:hover {background-color: #d4ebff;}#sk-container-id-3 div.sk-parallel-item::after {content: \"\";width: 100%;border-bottom: 1px solid gray;flex-grow: 1;}#sk-container-id-3 div.sk-label:hover label.sk-toggleable__label {background-color: #d4ebff;}#sk-container-id-3 div.sk-serial::before {content: \"\";position: absolute;border-left: 1px solid gray;box-sizing: border-box;top: 0;bottom: 0;left: 50%;z-index: 0;}#sk-container-id-3 div.sk-serial {display: flex;flex-direction: column;align-items: center;background-color: white;padding-right: 0.2em;padding-left: 0.2em;position: relative;}#sk-container-id-3 div.sk-item {position: relative;z-index: 1;}#sk-container-id-3 div.sk-parallel {display: flex;align-items: stretch;justify-content: center;background-color: white;position: relative;}#sk-container-id-3 div.sk-item::before, #sk-container-id-3 div.sk-parallel-item::before {content: \"\";position: absolute;border-left: 1px solid gray;box-sizing: border-box;top: 0;bottom: 0;left: 50%;z-index: -1;}#sk-container-id-3 div.sk-parallel-item {display: flex;flex-direction: column;z-index: 1;position: relative;background-color: white;}#sk-container-id-3 div.sk-parallel-item:first-child::after {align-self: flex-end;width: 50%;}#sk-container-id-3 div.sk-parallel-item:last-child::after {align-self: flex-start;width: 50%;}#sk-container-id-3 div.sk-parallel-item:only-child::after {width: 0;}#sk-container-id-3 div.sk-dashed-wrapped {border: 1px dashed gray;margin: 0 0.4em 0.5em 0.4em;box-sizing: border-box;padding-bottom: 0.4em;background-color: white;}#sk-container-id-3 div.sk-label label {font-family: monospace;font-weight: bold;display: inline-block;line-height: 1.2em;}#sk-container-id-3 div.sk-label-container {text-align: center;}#sk-container-id-3 div.sk-container {/* jupyter's `normalize.less` sets `[hidden] { display: none; }` but bootstrap.min.css set `[hidden] { display: none !important; }` so we also need the `!important` here to be able to override the default hidden behavior on the sphinx rendered scikit-learn.org. See: https://github.com/scikit-learn/scikit-learn/issues/21755 */display: inline-block !important;position: relative;}#sk-container-id-3 div.sk-text-repr-fallback {display: none;}</style><div id=\"sk-container-id-3\" class=\"sk-top-container\"><div class=\"sk-text-repr-fallback\"><pre>RandomForestClassifier(random_state=0)</pre><b>In a Jupyter environment, please rerun this cell to show the HTML representation or trust the notebook. <br />On GitHub, the HTML representation is unable to render, please try loading this page with nbviewer.org.</b></div><div class=\"sk-container\" hidden><div class=\"sk-item\"><div class=\"sk-estimator sk-toggleable\"><input class=\"sk-toggleable__control sk-hidden--visually\" id=\"sk-estimator-id-3\" type=\"checkbox\" checked><label for=\"sk-estimator-id-3\" class=\"sk-toggleable__label sk-toggleable__label-arrow\">RandomForestClassifier</label><div class=\"sk-toggleable__content\"><pre>RandomForestClassifier(random_state=0)</pre></div></div></div></div></div>"
      ],
      "text/plain": [
       "RandomForestClassifier(random_state=0)"
      ]
     },
     "execution_count": 79,
     "metadata": {},
     "output_type": "execute_result"
    }
   ],
   "source": [
    "rf_clf.fit(X_train_trf,y_train)"
   ]
  },
  {
   "cell_type": "code",
   "execution_count": 80,
   "metadata": {},
   "outputs": [],
   "source": [
    "y_pred = rf_clf.predict(X_val_trf)"
   ]
  },
  {
   "cell_type": "code",
   "execution_count": 81,
   "metadata": {},
   "outputs": [
    {
     "data": {
      "text/plain": [
       "99.06666666666666"
      ]
     },
     "execution_count": 81,
     "metadata": {},
     "output_type": "execute_result"
    }
   ],
   "source": [
    "accuracy_score(y_val, y_pred)*100"
   ]
  },
  {
   "cell_type": "code",
   "execution_count": 82,
   "metadata": {},
   "outputs": [
    {
     "name": "stdout",
     "output_type": "stream",
     "text": [
      "              precision    recall  f1-score   support\n",
      "\n",
      "           0       0.99      1.00      1.00     11788\n",
      "           1       0.83      0.59      0.69       212\n",
      "\n",
      "    accuracy                           0.99     12000\n",
      "   macro avg       0.91      0.80      0.84     12000\n",
      "weighted avg       0.99      0.99      0.99     12000\n",
      "\n"
     ]
    }
   ],
   "source": [
    "print(classification_report(y_val, y_pred))"
   ]
  },
  {
   "cell_type": "code",
   "execution_count": 85,
   "metadata": {},
   "outputs": [
    {
     "data": {
      "text/plain": [
       "array([[11762,    26],\n",
       "       [   86,   126]])"
      ]
     },
     "execution_count": 85,
     "metadata": {},
     "output_type": "execute_result"
    }
   ],
   "source": [
    "confusion_matrix(y_true=y_val, y_pred=y_pred)"
   ]
  },
  {
   "cell_type": "code",
   "execution_count": 119,
   "metadata": {},
   "outputs": [
    {
     "data": {
      "text/plain": [
       "43260"
      ]
     },
     "execution_count": 119,
     "metadata": {},
     "output_type": "execute_result"
    }
   ],
   "source": [
    "# Challenge Metrics\n",
    "# for cost value refer  aps_failure_description.txt\n",
    "\n",
    "cost = 26*10+86*500\n",
    "cost"
   ]
  },
  {
   "attachments": {},
   "cell_type": "markdown",
   "metadata": {},
   "source": [
    "### XG Boost"
   ]
  },
  {
   "cell_type": "code",
   "execution_count": 93,
   "metadata": {},
   "outputs": [],
   "source": [
    "from xgboost import XGBClassifier\n",
    "xgb_clf = XGBClassifier()"
   ]
  },
  {
   "cell_type": "code",
   "execution_count": 94,
   "metadata": {},
   "outputs": [
    {
     "data": {
      "text/html": [
       "<style>#sk-container-id-4 {color: black;background-color: white;}#sk-container-id-4 pre{padding: 0;}#sk-container-id-4 div.sk-toggleable {background-color: white;}#sk-container-id-4 label.sk-toggleable__label {cursor: pointer;display: block;width: 100%;margin-bottom: 0;padding: 0.3em;box-sizing: border-box;text-align: center;}#sk-container-id-4 label.sk-toggleable__label-arrow:before {content: \"▸\";float: left;margin-right: 0.25em;color: #696969;}#sk-container-id-4 label.sk-toggleable__label-arrow:hover:before {color: black;}#sk-container-id-4 div.sk-estimator:hover label.sk-toggleable__label-arrow:before {color: black;}#sk-container-id-4 div.sk-toggleable__content {max-height: 0;max-width: 0;overflow: hidden;text-align: left;background-color: #f0f8ff;}#sk-container-id-4 div.sk-toggleable__content pre {margin: 0.2em;color: black;border-radius: 0.25em;background-color: #f0f8ff;}#sk-container-id-4 input.sk-toggleable__control:checked~div.sk-toggleable__content {max-height: 200px;max-width: 100%;overflow: auto;}#sk-container-id-4 input.sk-toggleable__control:checked~label.sk-toggleable__label-arrow:before {content: \"▾\";}#sk-container-id-4 div.sk-estimator input.sk-toggleable__control:checked~label.sk-toggleable__label {background-color: #d4ebff;}#sk-container-id-4 div.sk-label input.sk-toggleable__control:checked~label.sk-toggleable__label {background-color: #d4ebff;}#sk-container-id-4 input.sk-hidden--visually {border: 0;clip: rect(1px 1px 1px 1px);clip: rect(1px, 1px, 1px, 1px);height: 1px;margin: -1px;overflow: hidden;padding: 0;position: absolute;width: 1px;}#sk-container-id-4 div.sk-estimator {font-family: monospace;background-color: #f0f8ff;border: 1px dotted black;border-radius: 0.25em;box-sizing: border-box;margin-bottom: 0.5em;}#sk-container-id-4 div.sk-estimator:hover {background-color: #d4ebff;}#sk-container-id-4 div.sk-parallel-item::after {content: \"\";width: 100%;border-bottom: 1px solid gray;flex-grow: 1;}#sk-container-id-4 div.sk-label:hover label.sk-toggleable__label {background-color: #d4ebff;}#sk-container-id-4 div.sk-serial::before {content: \"\";position: absolute;border-left: 1px solid gray;box-sizing: border-box;top: 0;bottom: 0;left: 50%;z-index: 0;}#sk-container-id-4 div.sk-serial {display: flex;flex-direction: column;align-items: center;background-color: white;padding-right: 0.2em;padding-left: 0.2em;position: relative;}#sk-container-id-4 div.sk-item {position: relative;z-index: 1;}#sk-container-id-4 div.sk-parallel {display: flex;align-items: stretch;justify-content: center;background-color: white;position: relative;}#sk-container-id-4 div.sk-item::before, #sk-container-id-4 div.sk-parallel-item::before {content: \"\";position: absolute;border-left: 1px solid gray;box-sizing: border-box;top: 0;bottom: 0;left: 50%;z-index: -1;}#sk-container-id-4 div.sk-parallel-item {display: flex;flex-direction: column;z-index: 1;position: relative;background-color: white;}#sk-container-id-4 div.sk-parallel-item:first-child::after {align-self: flex-end;width: 50%;}#sk-container-id-4 div.sk-parallel-item:last-child::after {align-self: flex-start;width: 50%;}#sk-container-id-4 div.sk-parallel-item:only-child::after {width: 0;}#sk-container-id-4 div.sk-dashed-wrapped {border: 1px dashed gray;margin: 0 0.4em 0.5em 0.4em;box-sizing: border-box;padding-bottom: 0.4em;background-color: white;}#sk-container-id-4 div.sk-label label {font-family: monospace;font-weight: bold;display: inline-block;line-height: 1.2em;}#sk-container-id-4 div.sk-label-container {text-align: center;}#sk-container-id-4 div.sk-container {/* jupyter's `normalize.less` sets `[hidden] { display: none; }` but bootstrap.min.css set `[hidden] { display: none !important; }` so we also need the `!important` here to be able to override the default hidden behavior on the sphinx rendered scikit-learn.org. See: https://github.com/scikit-learn/scikit-learn/issues/21755 */display: inline-block !important;position: relative;}#sk-container-id-4 div.sk-text-repr-fallback {display: none;}</style><div id=\"sk-container-id-4\" class=\"sk-top-container\"><div class=\"sk-text-repr-fallback\"><pre>XGBClassifier(base_score=None, booster=None, callbacks=None,\n",
       "              colsample_bylevel=None, colsample_bynode=None,\n",
       "              colsample_bytree=None, early_stopping_rounds=None,\n",
       "              enable_categorical=False, eval_metric=None, feature_types=None,\n",
       "              gamma=None, gpu_id=None, grow_policy=None, importance_type=None,\n",
       "              interaction_constraints=None, learning_rate=None, max_bin=None,\n",
       "              max_cat_threshold=None, max_cat_to_onehot=None,\n",
       "              max_delta_step=None, max_depth=None, max_leaves=None,\n",
       "              min_child_weight=None, missing=nan, monotone_constraints=None,\n",
       "              n_estimators=100, n_jobs=None, num_parallel_tree=None,\n",
       "              predictor=None, random_state=None, ...)</pre><b>In a Jupyter environment, please rerun this cell to show the HTML representation or trust the notebook. <br />On GitHub, the HTML representation is unable to render, please try loading this page with nbviewer.org.</b></div><div class=\"sk-container\" hidden><div class=\"sk-item\"><div class=\"sk-estimator sk-toggleable\"><input class=\"sk-toggleable__control sk-hidden--visually\" id=\"sk-estimator-id-4\" type=\"checkbox\" checked><label for=\"sk-estimator-id-4\" class=\"sk-toggleable__label sk-toggleable__label-arrow\">XGBClassifier</label><div class=\"sk-toggleable__content\"><pre>XGBClassifier(base_score=None, booster=None, callbacks=None,\n",
       "              colsample_bylevel=None, colsample_bynode=None,\n",
       "              colsample_bytree=None, early_stopping_rounds=None,\n",
       "              enable_categorical=False, eval_metric=None, feature_types=None,\n",
       "              gamma=None, gpu_id=None, grow_policy=None, importance_type=None,\n",
       "              interaction_constraints=None, learning_rate=None, max_bin=None,\n",
       "              max_cat_threshold=None, max_cat_to_onehot=None,\n",
       "              max_delta_step=None, max_depth=None, max_leaves=None,\n",
       "              min_child_weight=None, missing=nan, monotone_constraints=None,\n",
       "              n_estimators=100, n_jobs=None, num_parallel_tree=None,\n",
       "              predictor=None, random_state=None, ...)</pre></div></div></div></div></div>"
      ],
      "text/plain": [
       "XGBClassifier(base_score=None, booster=None, callbacks=None,\n",
       "              colsample_bylevel=None, colsample_bynode=None,\n",
       "              colsample_bytree=None, early_stopping_rounds=None,\n",
       "              enable_categorical=False, eval_metric=None, feature_types=None,\n",
       "              gamma=None, gpu_id=None, grow_policy=None, importance_type=None,\n",
       "              interaction_constraints=None, learning_rate=None, max_bin=None,\n",
       "              max_cat_threshold=None, max_cat_to_onehot=None,\n",
       "              max_delta_step=None, max_depth=None, max_leaves=None,\n",
       "              min_child_weight=None, missing=nan, monotone_constraints=None,\n",
       "              n_estimators=100, n_jobs=None, num_parallel_tree=None,\n",
       "              predictor=None, random_state=None, ...)"
      ]
     },
     "execution_count": 94,
     "metadata": {},
     "output_type": "execute_result"
    }
   ],
   "source": [
    "xgb_clf.fit(X_train_trf,y_train)"
   ]
  },
  {
   "cell_type": "code",
   "execution_count": 95,
   "metadata": {},
   "outputs": [],
   "source": [
    "y_pred = xgb_clf.predict(X_val_trf)"
   ]
  },
  {
   "cell_type": "code",
   "execution_count": 96,
   "metadata": {},
   "outputs": [
    {
     "data": {
      "text/plain": [
       "99.175"
      ]
     },
     "execution_count": 96,
     "metadata": {},
     "output_type": "execute_result"
    }
   ],
   "source": [
    "accuracy_score(y_val, y_pred)*100"
   ]
  },
  {
   "cell_type": "code",
   "execution_count": 97,
   "metadata": {},
   "outputs": [
    {
     "name": "stdout",
     "output_type": "stream",
     "text": [
      "              precision    recall  f1-score   support\n",
      "\n",
      "           0       0.99      1.00      1.00     11788\n",
      "           1       0.84      0.66      0.74       212\n",
      "\n",
      "    accuracy                           0.99     12000\n",
      "   macro avg       0.92      0.83      0.87     12000\n",
      "weighted avg       0.99      0.99      0.99     12000\n",
      "\n"
     ]
    }
   ],
   "source": [
    "print(classification_report(y_val, y_pred))"
   ]
  },
  {
   "cell_type": "code",
   "execution_count": 98,
   "metadata": {},
   "outputs": [
    {
     "data": {
      "text/plain": [
       "array([[11762,    26],\n",
       "       [   73,   139]])"
      ]
     },
     "execution_count": 98,
     "metadata": {},
     "output_type": "execute_result"
    }
   ],
   "source": [
    "confusion_matrix(y_true=y_val, y_pred=y_pred)"
   ]
  },
  {
   "cell_type": "code",
   "execution_count": 120,
   "metadata": {},
   "outputs": [
    {
     "data": {
      "text/plain": [
       "36760"
      ]
     },
     "execution_count": 120,
     "metadata": {},
     "output_type": "execute_result"
    }
   ],
   "source": [
    "# Challenge Metrics\n",
    "# for cost value refer  aps_failure_description.txt\n",
    "\n",
    "cost = 26*10+73*500\n",
    "cost"
   ]
  },
  {
   "attachments": {},
   "cell_type": "markdown",
   "metadata": {},
   "source": [
    "#### Balancing two classes\n",
    "- As we know that our data set is highlt imbalanced,\n",
    "- whatever model till now we have tried, XG-Boost is performing best with low cost and good precision and recall.\n",
    "- Now we are going to try few techniques of balancing the imbalanced dataset,\n",
    "- and see whether we able to increase model metrics or not.\n"
   ]
  },
  {
   "cell_type": "code",
   "execution_count": 115,
   "metadata": {},
   "outputs": [
    {
     "data": {
      "image/png": "[encoded data removed]",
      "text/plain": [
       "<Figure size 640x480 with 1 Axes>"
      ]
     },
     "metadata": {},
     "output_type": "display_data"
    }
   ],
   "source": [
    "count_classes = Y.value_counts()\n",
    "\n",
    "count_classes.plot(kind = 'bar', rot=0)\n",
    "\n",
    "plt.title(\"Before Balancing !!\")\n",
    "\n",
    "plt.xlabel(\"Class\")\n",
    "\n",
    "plt.ylabel(\"Frequency\")\n",
    "\n",
    "plt.show()"
   ]
  },
  {
   "cell_type": "code",
   "execution_count": 101,
   "metadata": {},
   "outputs": [],
   "source": [
    "from imblearn.combine import SMOTETomek"
   ]
  },
  {
   "cell_type": "code",
   "execution_count": 105,
   "metadata": {},
   "outputs": [],
   "source": [
    "# Implementing Oversampling for Handling Imbalanced \n",
    "smk = SMOTETomek(random_state=42)\n",
    "X_res,y_res=smk.fit_resample(X,Y)"
   ]
  },
  {
   "cell_type": "code",
   "execution_count": 106,
   "metadata": {},
   "outputs": [
    {
     "data": {
      "text/html": [
       "<div>\n",
       "<style scoped>\n",
       "    .dataframe tbody tr th:only-of-type {\n",
       "        vertical-align: middle;\n",
       "    }\n",
       "\n",
       "    .dataframe tbody tr th {\n",
       "        vertical-align: top;\n",
       "    }\n",
       "\n",
       "    .dataframe thead th {\n",
       "        text-align: right;\n",
       "    }\n",
       "</style>\n",
       "<table border=\"1\" class=\"dataframe\">\n",
       "  <thead>\n",
       "    <tr style=\"text-align: right;\">\n",
       "      <th></th>\n",
       "      <th>aa_000</th>\n",
       "      <th>ab_000</th>\n",
       "      <th>ac_000</th>\n",
       "      <th>ad_000</th>\n",
       "      <th>ae_000</th>\n",
       "      <th>af_000</th>\n",
       "      <th>ag_000</th>\n",
       "      <th>ag_001</th>\n",
       "      <th>ag_002</th>\n",
       "      <th>ag_003</th>\n",
       "      <th>...</th>\n",
       "      <th>ee_002</th>\n",
       "      <th>ee_003</th>\n",
       "      <th>ee_004</th>\n",
       "      <th>ee_005</th>\n",
       "      <th>ee_006</th>\n",
       "      <th>ee_007</th>\n",
       "      <th>ee_008</th>\n",
       "      <th>ee_009</th>\n",
       "      <th>ef_000</th>\n",
       "      <th>eg_000</th>\n",
       "    </tr>\n",
       "  </thead>\n",
       "  <tbody>\n",
       "    <tr>\n",
       "      <th>0</th>\n",
       "      <td>76698</td>\n",
       "      <td>0.000000</td>\n",
       "      <td>2.130706e+09</td>\n",
       "      <td>280.000000</td>\n",
       "      <td>0.0</td>\n",
       "      <td>0.0</td>\n",
       "      <td>0.000000</td>\n",
       "      <td>0.000000</td>\n",
       "      <td>0.000000e+00</td>\n",
       "      <td>0.000000e+00</td>\n",
       "      <td>...</td>\n",
       "      <td>1.240520e+06</td>\n",
       "      <td>4.933840e+05</td>\n",
       "      <td>7.210440e+05</td>\n",
       "      <td>4.697920e+05</td>\n",
       "      <td>3.391560e+05</td>\n",
       "      <td>1.579560e+05</td>\n",
       "      <td>7.322400e+04</td>\n",
       "      <td>0.000000</td>\n",
       "      <td>0.0</td>\n",
       "      <td>0.0</td>\n",
       "    </tr>\n",
       "    <tr>\n",
       "      <th>1</th>\n",
       "      <td>33058</td>\n",
       "      <td>0.000000</td>\n",
       "      <td>0.000000e+00</td>\n",
       "      <td>126.000000</td>\n",
       "      <td>0.0</td>\n",
       "      <td>0.0</td>\n",
       "      <td>0.000000</td>\n",
       "      <td>0.000000</td>\n",
       "      <td>0.000000e+00</td>\n",
       "      <td>0.000000e+00</td>\n",
       "      <td>...</td>\n",
       "      <td>4.214000e+05</td>\n",
       "      <td>1.780640e+05</td>\n",
       "      <td>2.933060e+05</td>\n",
       "      <td>2.454160e+05</td>\n",
       "      <td>1.336540e+05</td>\n",
       "      <td>8.114000e+04</td>\n",
       "      <td>9.757600e+04</td>\n",
       "      <td>1500.000000</td>\n",
       "      <td>0.0</td>\n",
       "      <td>0.0</td>\n",
       "    </tr>\n",
       "    <tr>\n",
       "      <th>2</th>\n",
       "      <td>41040</td>\n",
       "      <td>0.000000</td>\n",
       "      <td>2.280000e+02</td>\n",
       "      <td>100.000000</td>\n",
       "      <td>0.0</td>\n",
       "      <td>0.0</td>\n",
       "      <td>0.000000</td>\n",
       "      <td>0.000000</td>\n",
       "      <td>0.000000e+00</td>\n",
       "      <td>0.000000e+00</td>\n",
       "      <td>...</td>\n",
       "      <td>2.773780e+05</td>\n",
       "      <td>1.598120e+05</td>\n",
       "      <td>4.239920e+05</td>\n",
       "      <td>4.095640e+05</td>\n",
       "      <td>3.207460e+05</td>\n",
       "      <td>1.580220e+05</td>\n",
       "      <td>9.512800e+04</td>\n",
       "      <td>514.000000</td>\n",
       "      <td>0.0</td>\n",
       "      <td>0.0</td>\n",
       "    </tr>\n",
       "    <tr>\n",
       "      <th>3</th>\n",
       "      <td>12</td>\n",
       "      <td>0.000000</td>\n",
       "      <td>7.000000e+01</td>\n",
       "      <td>66.000000</td>\n",
       "      <td>0.0</td>\n",
       "      <td>10.0</td>\n",
       "      <td>0.000000</td>\n",
       "      <td>0.000000</td>\n",
       "      <td>0.000000e+00</td>\n",
       "      <td>3.180000e+02</td>\n",
       "      <td>...</td>\n",
       "      <td>2.400000e+02</td>\n",
       "      <td>4.600000e+01</td>\n",
       "      <td>5.800000e+01</td>\n",
       "      <td>4.400000e+01</td>\n",
       "      <td>1.000000e+01</td>\n",
       "      <td>0.000000e+00</td>\n",
       "      <td>0.000000e+00</td>\n",
       "      <td>0.000000</td>\n",
       "      <td>4.0</td>\n",
       "      <td>32.0</td>\n",
       "    </tr>\n",
       "    <tr>\n",
       "      <th>4</th>\n",
       "      <td>60874</td>\n",
       "      <td>0.000000</td>\n",
       "      <td>1.368000e+03</td>\n",
       "      <td>458.000000</td>\n",
       "      <td>0.0</td>\n",
       "      <td>0.0</td>\n",
       "      <td>0.000000</td>\n",
       "      <td>0.000000</td>\n",
       "      <td>0.000000e+00</td>\n",
       "      <td>0.000000e+00</td>\n",
       "      <td>...</td>\n",
       "      <td>6.220120e+05</td>\n",
       "      <td>2.297900e+05</td>\n",
       "      <td>4.052980e+05</td>\n",
       "      <td>3.471880e+05</td>\n",
       "      <td>2.869540e+05</td>\n",
       "      <td>3.115600e+05</td>\n",
       "      <td>4.339540e+05</td>\n",
       "      <td>1218.000000</td>\n",
       "      <td>0.0</td>\n",
       "      <td>0.0</td>\n",
       "    </tr>\n",
       "    <tr>\n",
       "      <th>...</th>\n",
       "      <td>...</td>\n",
       "      <td>...</td>\n",
       "      <td>...</td>\n",
       "      <td>...</td>\n",
       "      <td>...</td>\n",
       "      <td>...</td>\n",
       "      <td>...</td>\n",
       "      <td>...</td>\n",
       "      <td>...</td>\n",
       "      <td>...</td>\n",
       "      <td>...</td>\n",
       "      <td>...</td>\n",
       "      <td>...</td>\n",
       "      <td>...</td>\n",
       "      <td>...</td>\n",
       "      <td>...</td>\n",
       "      <td>...</td>\n",
       "      <td>...</td>\n",
       "      <td>...</td>\n",
       "      <td>...</td>\n",
       "      <td>...</td>\n",
       "    </tr>\n",
       "    <tr>\n",
       "      <th>117983</th>\n",
       "      <td>883584</td>\n",
       "      <td>0.000000</td>\n",
       "      <td>1.520000e+02</td>\n",
       "      <td>126.000000</td>\n",
       "      <td>0.0</td>\n",
       "      <td>0.0</td>\n",
       "      <td>0.000000</td>\n",
       "      <td>78.724571</td>\n",
       "      <td>2.300726e+04</td>\n",
       "      <td>7.741951e+05</td>\n",
       "      <td>...</td>\n",
       "      <td>1.095504e+07</td>\n",
       "      <td>3.921704e+06</td>\n",
       "      <td>7.442646e+06</td>\n",
       "      <td>6.761403e+06</td>\n",
       "      <td>3.670134e+06</td>\n",
       "      <td>2.015080e+06</td>\n",
       "      <td>1.322761e+06</td>\n",
       "      <td>31756.419554</td>\n",
       "      <td>0.0</td>\n",
       "      <td>0.0</td>\n",
       "    </tr>\n",
       "    <tr>\n",
       "      <th>117984</th>\n",
       "      <td>1643031</td>\n",
       "      <td>0.000000</td>\n",
       "      <td>1.520000e+02</td>\n",
       "      <td>126.000000</td>\n",
       "      <td>0.0</td>\n",
       "      <td>0.0</td>\n",
       "      <td>0.000000</td>\n",
       "      <td>0.000000</td>\n",
       "      <td>0.000000e+00</td>\n",
       "      <td>8.610482e+03</td>\n",
       "      <td>...</td>\n",
       "      <td>1.375831e+07</td>\n",
       "      <td>7.535357e+06</td>\n",
       "      <td>1.928811e+07</td>\n",
       "      <td>1.611022e+07</td>\n",
       "      <td>1.016876e+07</td>\n",
       "      <td>4.413486e+06</td>\n",
       "      <td>3.854916e+06</td>\n",
       "      <td>103649.576315</td>\n",
       "      <td>0.0</td>\n",
       "      <td>0.0</td>\n",
       "    </tr>\n",
       "    <tr>\n",
       "      <th>117985</th>\n",
       "      <td>642482</td>\n",
       "      <td>2.629103</td>\n",
       "      <td>1.496756e+03</td>\n",
       "      <td>304.779002</td>\n",
       "      <td>0.0</td>\n",
       "      <td>0.0</td>\n",
       "      <td>4493.136979</td>\n",
       "      <td>150040.756765</td>\n",
       "      <td>1.228286e+06</td>\n",
       "      <td>5.613544e+06</td>\n",
       "      <td>...</td>\n",
       "      <td>3.558291e+06</td>\n",
       "      <td>1.842948e+06</td>\n",
       "      <td>4.442680e+06</td>\n",
       "      <td>6.533688e+06</td>\n",
       "      <td>8.739386e+06</td>\n",
       "      <td>3.437744e+06</td>\n",
       "      <td>7.773594e+04</td>\n",
       "      <td>13.145515</td>\n",
       "      <td>0.0</td>\n",
       "      <td>0.0</td>\n",
       "    </tr>\n",
       "    <tr>\n",
       "      <th>117986</th>\n",
       "      <td>446093</td>\n",
       "      <td>0.000000</td>\n",
       "      <td>1.911380e+03</td>\n",
       "      <td>1228.422338</td>\n",
       "      <td>0.0</td>\n",
       "      <td>0.0</td>\n",
       "      <td>0.000000</td>\n",
       "      <td>574.149203</td>\n",
       "      <td>2.968010e+05</td>\n",
       "      <td>4.118262e+06</td>\n",
       "      <td>...</td>\n",
       "      <td>2.219890e+06</td>\n",
       "      <td>1.028396e+06</td>\n",
       "      <td>2.759218e+06</td>\n",
       "      <td>4.401657e+06</td>\n",
       "      <td>5.572968e+06</td>\n",
       "      <td>3.542339e+06</td>\n",
       "      <td>8.294097e+04</td>\n",
       "      <td>9.913392</td>\n",
       "      <td>0.0</td>\n",
       "      <td>0.0</td>\n",
       "    </tr>\n",
       "    <tr>\n",
       "      <th>117987</th>\n",
       "      <td>958756</td>\n",
       "      <td>0.000000</td>\n",
       "      <td>1.520000e+02</td>\n",
       "      <td>126.000000</td>\n",
       "      <td>0.0</td>\n",
       "      <td>0.0</td>\n",
       "      <td>0.000000</td>\n",
       "      <td>0.000000</td>\n",
       "      <td>2.393164e+01</td>\n",
       "      <td>2.110044e+04</td>\n",
       "      <td>...</td>\n",
       "      <td>5.640537e+05</td>\n",
       "      <td>2.699964e+05</td>\n",
       "      <td>5.070704e+05</td>\n",
       "      <td>3.965195e+05</td>\n",
       "      <td>2.711516e+05</td>\n",
       "      <td>1.377451e+05</td>\n",
       "      <td>1.020332e+05</td>\n",
       "      <td>654.769210</td>\n",
       "      <td>0.0</td>\n",
       "      <td>0.0</td>\n",
       "    </tr>\n",
       "  </tbody>\n",
       "</table>\n",
       "<p>117988 rows × 170 columns</p>\n",
       "</div>"
      ],
      "text/plain": [
       "         aa_000    ab_000        ac_000       ad_000  ae_000  af_000  \\\n",
       "0         76698  0.000000  2.130706e+09   280.000000     0.0     0.0   \n",
       "1         33058  0.000000  0.000000e+00   126.000000     0.0     0.0   \n",
       "2         41040  0.000000  2.280000e+02   100.000000     0.0     0.0   \n",
       "3            12  0.000000  7.000000e+01    66.000000     0.0    10.0   \n",
       "4         60874  0.000000  1.368000e+03   458.000000     0.0     0.0   \n",
       "...         ...       ...           ...          ...     ...     ...   \n",
       "117983   883584  0.000000  1.520000e+02   126.000000     0.0     0.0   \n",
       "117984  1643031  0.000000  1.520000e+02   126.000000     0.0     0.0   \n",
       "117985   642482  2.629103  1.496756e+03   304.779002     0.0     0.0   \n",
       "117986   446093  0.000000  1.911380e+03  1228.422338     0.0     0.0   \n",
       "117987   958756  0.000000  1.520000e+02   126.000000     0.0     0.0   \n",
       "\n",
       "             ag_000         ag_001        ag_002        ag_003  ...  \\\n",
       "0          0.000000       0.000000  0.000000e+00  0.000000e+00  ...   \n",
       "1          0.000000       0.000000  0.000000e+00  0.000000e+00  ...   \n",
       "2          0.000000       0.000000  0.000000e+00  0.000000e+00  ...   \n",
       "3          0.000000       0.000000  0.000000e+00  3.180000e+02  ...   \n",
       "4          0.000000       0.000000  0.000000e+00  0.000000e+00  ...   \n",
       "...             ...            ...           ...           ...  ...   \n",
       "117983     0.000000      78.724571  2.300726e+04  7.741951e+05  ...   \n",
       "117984     0.000000       0.000000  0.000000e+00  8.610482e+03  ...   \n",
       "117985  4493.136979  150040.756765  1.228286e+06  5.613544e+06  ...   \n",
       "117986     0.000000     574.149203  2.968010e+05  4.118262e+06  ...   \n",
       "117987     0.000000       0.000000  2.393164e+01  2.110044e+04  ...   \n",
       "\n",
       "              ee_002        ee_003        ee_004        ee_005        ee_006  \\\n",
       "0       1.240520e+06  4.933840e+05  7.210440e+05  4.697920e+05  3.391560e+05   \n",
       "1       4.214000e+05  1.780640e+05  2.933060e+05  2.454160e+05  1.336540e+05   \n",
       "2       2.773780e+05  1.598120e+05  4.239920e+05  4.095640e+05  3.207460e+05   \n",
       "3       2.400000e+02  4.600000e+01  5.800000e+01  4.400000e+01  1.000000e+01   \n",
       "4       6.220120e+05  2.297900e+05  4.052980e+05  3.471880e+05  2.869540e+05   \n",
       "...              ...           ...           ...           ...           ...   \n",
       "117983  1.095504e+07  3.921704e+06  7.442646e+06  6.761403e+06  3.670134e+06   \n",
       "117984  1.375831e+07  7.535357e+06  1.928811e+07  1.611022e+07  1.016876e+07   \n",
       "117985  3.558291e+06  1.842948e+06  4.442680e+06  6.533688e+06  8.739386e+06   \n",
       "117986  2.219890e+06  1.028396e+06  2.759218e+06  4.401657e+06  5.572968e+06   \n",
       "117987  5.640537e+05  2.699964e+05  5.070704e+05  3.965195e+05  2.711516e+05   \n",
       "\n",
       "              ee_007        ee_008         ee_009  ef_000  eg_000  \n",
       "0       1.579560e+05  7.322400e+04       0.000000     0.0     0.0  \n",
       "1       8.114000e+04  9.757600e+04    1500.000000     0.0     0.0  \n",
       "2       1.580220e+05  9.512800e+04     514.000000     0.0     0.0  \n",
       "3       0.000000e+00  0.000000e+00       0.000000     4.0    32.0  \n",
       "4       3.115600e+05  4.339540e+05    1218.000000     0.0     0.0  \n",
       "...              ...           ...            ...     ...     ...  \n",
       "117983  2.015080e+06  1.322761e+06   31756.419554     0.0     0.0  \n",
       "117984  4.413486e+06  3.854916e+06  103649.576315     0.0     0.0  \n",
       "117985  3.437744e+06  7.773594e+04      13.145515     0.0     0.0  \n",
       "117986  3.542339e+06  8.294097e+04       9.913392     0.0     0.0  \n",
       "117987  1.377451e+05  1.020332e+05     654.769210     0.0     0.0  \n",
       "\n",
       "[117988 rows x 170 columns]"
      ]
     },
     "execution_count": 106,
     "metadata": {},
     "output_type": "execute_result"
    }
   ],
   "source": [
    "X_res"
   ]
  },
  {
   "cell_type": "code",
   "execution_count": 116,
   "metadata": {},
   "outputs": [
    {
     "data": {
      "image/png": "[encoded data removed]",
      "text/plain": [
       "<Figure size 640x480 with 1 Axes>"
      ]
     },
     "metadata": {},
     "output_type": "display_data"
    }
   ],
   "source": [
    "count_classes = y_res.value_counts()\n",
    "\n",
    "count_classes.plot(kind = 'bar', rot=0)\n",
    "\n",
    "plt.title(\"After Balancing !!\")\n",
    "\n",
    "plt.xlabel(\"Class\")\n",
    "\n",
    "plt.ylabel(\"Frequency\")\n",
    "\n",
    "plt.show()"
   ]
  },
  {
   "attachments": {},
   "cell_type": "markdown",
   "metadata": {},
   "source": [
    "#### Now let's do PCA in balanced dataset"
   ]
  },
  {
   "cell_type": "code",
   "execution_count": 122,
   "metadata": {},
   "outputs": [],
   "source": [
    "from sklearn.model_selection import train_test_split\n",
    "X_train, X_val, y_train,y_val = train_test_split(X_res, y_res, test_size=0.2, random_state=42)"
   ]
  },
  {
   "cell_type": "code",
   "execution_count": 123,
   "metadata": {},
   "outputs": [
    {
     "name": "stdout",
     "output_type": "stream",
     "text": [
      "Shape of X_train: (94390, 170)\n",
      "Shape of X_test: (23598, 170)\n"
     ]
    }
   ],
   "source": [
    "print(f\"Shape of X_train: {X_train.shape}\")\n",
    "print(f\"Shape of X_test: {X_val.shape}\")"
   ]
  },
  {
   "cell_type": "code",
   "execution_count": 124,
   "metadata": {},
   "outputs": [],
   "source": [
    "from sklearn.preprocessing import StandardScaler\n",
    "scaler = StandardScaler()"
   ]
  },
  {
   "cell_type": "code",
   "execution_count": 125,
   "metadata": {},
   "outputs": [],
   "source": [
    "X_train = scaler.fit_transform(X_train)\n",
    "X_val = scaler.transform(X_val)"
   ]
  },
  {
   "cell_type": "code",
   "execution_count": 126,
   "metadata": {},
   "outputs": [],
   "source": [
    "from sklearn.decomposition import PCA"
   ]
  },
  {
   "attachments": {},
   "cell_type": "markdown",
   "metadata": {},
   "source": [
    "#### Now lets find optimum numer of components"
   ]
  },
  {
   "cell_type": "code",
   "execution_count": 127,
   "metadata": {},
   "outputs": [],
   "source": [
    "pca = PCA(n_components=None)\n",
    "X_train_trf = pca.fit_transform(X_train)\n",
    "X_val_trf = pca.transform(X_val)"
   ]
  },
  {
   "cell_type": "code",
   "execution_count": 128,
   "metadata": {},
   "outputs": [
    {
     "data": {
      "image/png": "[encoded data removed]",
      "text/plain": [
       "<Figure size 640x480 with 1 Axes>"
      ]
     },
     "metadata": {},
     "output_type": "display_data"
    }
   ],
   "source": [
    "plt.plot(np.cumsum(pca.explained_variance_ratio_))\n",
    "plt.show()"
   ]
  },
  {
   "attachments": {},
   "cell_type": "markdown",
   "metadata": {},
   "source": [
    "- Optimum number of components is somewhere between 50 to 56"
   ]
  },
  {
   "cell_type": "code",
   "execution_count": 131,
   "metadata": {},
   "outputs": [],
   "source": [
    "# we will go with 65 principal components\n",
    "pca = PCA(n_components=56)\n",
    "X_train_trf = pca.fit_transform(X_train)\n",
    "X_val_trf = pca.transform(X_val)"
   ]
  },
  {
   "attachments": {},
   "cell_type": "markdown",
   "metadata": {},
   "source": [
    "##### Now let's check the performance on XG-Boost classifier"
   ]
  },
  {
   "cell_type": "code",
   "execution_count": 132,
   "metadata": {},
   "outputs": [],
   "source": [
    "from xgboost import XGBClassifier\n",
    "xgb_clf = XGBClassifier()"
   ]
  },
  {
   "cell_type": "code",
   "execution_count": 133,
   "metadata": {},
   "outputs": [
    {
     "data": {
      "text/html": [
       "<style>#sk-container-id-5 {color: black;background-color: white;}#sk-container-id-5 pre{padding: 0;}#sk-container-id-5 div.sk-toggleable {background-color: white;}#sk-container-id-5 label.sk-toggleable__label {cursor: pointer;display: block;width: 100%;margin-bottom: 0;padding: 0.3em;box-sizing: border-box;text-align: center;}#sk-container-id-5 label.sk-toggleable__label-arrow:before {content: \"▸\";float: left;margin-right: 0.25em;color: #696969;}#sk-container-id-5 label.sk-toggleable__label-arrow:hover:before {color: black;}#sk-container-id-5 div.sk-estimator:hover label.sk-toggleable__label-arrow:before {color: black;}#sk-container-id-5 div.sk-toggleable__content {max-height: 0;max-width: 0;overflow: hidden;text-align: left;background-color: #f0f8ff;}#sk-container-id-5 div.sk-toggleable__content pre {margin: 0.2em;color: black;border-radius: 0.25em;background-color: #f0f8ff;}#sk-container-id-5 input.sk-toggleable__control:checked~div.sk-toggleable__content {max-height: 200px;max-width: 100%;overflow: auto;}#sk-container-id-5 input.sk-toggleable__control:checked~label.sk-toggleable__label-arrow:before {content: \"▾\";}#sk-container-id-5 div.sk-estimator input.sk-toggleable__control:checked~label.sk-toggleable__label {background-color: #d4ebff;}#sk-container-id-5 div.sk-label input.sk-toggleable__control:checked~label.sk-toggleable__label {background-color: #d4ebff;}#sk-container-id-5 input.sk-hidden--visually {border: 0;clip: rect(1px 1px 1px 1px);clip: rect(1px, 1px, 1px, 1px);height: 1px;margin: -1px;overflow: hidden;padding: 0;position: absolute;width: 1px;}#sk-container-id-5 div.sk-estimator {font-family: monospace;background-color: #f0f8ff;border: 1px dotted black;border-radius: 0.25em;box-sizing: border-box;margin-bottom: 0.5em;}#sk-container-id-5 div.sk-estimator:hover {background-color: #d4ebff;}#sk-container-id-5 div.sk-parallel-item::after {content: \"\";width: 100%;border-bottom: 1px solid gray;flex-grow: 1;}#sk-container-id-5 div.sk-label:hover label.sk-toggleable__label {background-color: #d4ebff;}#sk-container-id-5 div.sk-serial::before {content: \"\";position: absolute;border-left: 1px solid gray;box-sizing: border-box;top: 0;bottom: 0;left: 50%;z-index: 0;}#sk-container-id-5 div.sk-serial {display: flex;flex-direction: column;align-items: center;background-color: white;padding-right: 0.2em;padding-left: 0.2em;position: relative;}#sk-container-id-5 div.sk-item {position: relative;z-index: 1;}#sk-container-id-5 div.sk-parallel {display: flex;align-items: stretch;justify-content: center;background-color: white;position: relative;}#sk-container-id-5 div.sk-item::before, #sk-container-id-5 div.sk-parallel-item::before {content: \"\";position: absolute;border-left: 1px solid gray;box-sizing: border-box;top: 0;bottom: 0;left: 50%;z-index: -1;}#sk-container-id-5 div.sk-parallel-item {display: flex;flex-direction: column;z-index: 1;position: relative;background-color: white;}#sk-container-id-5 div.sk-parallel-item:first-child::after {align-self: flex-end;width: 50%;}#sk-container-id-5 div.sk-parallel-item:last-child::after {align-self: flex-start;width: 50%;}#sk-container-id-5 div.sk-parallel-item:only-child::after {width: 0;}#sk-container-id-5 div.sk-dashed-wrapped {border: 1px dashed gray;margin: 0 0.4em 0.5em 0.4em;box-sizing: border-box;padding-bottom: 0.4em;background-color: white;}#sk-container-id-5 div.sk-label label {font-family: monospace;font-weight: bold;display: inline-block;line-height: 1.2em;}#sk-container-id-5 div.sk-label-container {text-align: center;}#sk-container-id-5 div.sk-container {/* jupyter's `normalize.less` sets `[hidden] { display: none; }` but bootstrap.min.css set `[hidden] { display: none !important; }` so we also need the `!important` here to be able to override the default hidden behavior on the sphinx rendered scikit-learn.org. See: https://github.com/scikit-learn/scikit-learn/issues/21755 */display: inline-block !important;position: relative;}#sk-container-id-5 div.sk-text-repr-fallback {display: none;}</style><div id=\"sk-container-id-5\" class=\"sk-top-container\"><div class=\"sk-text-repr-fallback\"><pre>XGBClassifier(base_score=None, booster=None, callbacks=None,\n",
       "              colsample_bylevel=None, colsample_bynode=None,\n",
       "              colsample_bytree=None, early_stopping_rounds=None,\n",
       "              enable_categorical=False, eval_metric=None, feature_types=None,\n",
       "              gamma=None, gpu_id=None, grow_policy=None, importance_type=None,\n",
       "              interaction_constraints=None, learning_rate=None, max_bin=None,\n",
       "              max_cat_threshold=None, max_cat_to_onehot=None,\n",
       "              max_delta_step=None, max_depth=None, max_leaves=None,\n",
       "              min_child_weight=None, missing=nan, monotone_constraints=None,\n",
       "              n_estimators=100, n_jobs=None, num_parallel_tree=None,\n",
       "              predictor=None, random_state=None, ...)</pre><b>In a Jupyter environment, please rerun this cell to show the HTML representation or trust the notebook. <br />On GitHub, the HTML representation is unable to render, please try loading this page with nbviewer.org.</b></div><div class=\"sk-container\" hidden><div class=\"sk-item\"><div class=\"sk-estimator sk-toggleable\"><input class=\"sk-toggleable__control sk-hidden--visually\" id=\"sk-estimator-id-5\" type=\"checkbox\" checked><label for=\"sk-estimator-id-5\" class=\"sk-toggleable__label sk-toggleable__label-arrow\">XGBClassifier</label><div class=\"sk-toggleable__content\"><pre>XGBClassifier(base_score=None, booster=None, callbacks=None,\n",
       "              colsample_bylevel=None, colsample_bynode=None,\n",
       "              colsample_bytree=None, early_stopping_rounds=None,\n",
       "              enable_categorical=False, eval_metric=None, feature_types=None,\n",
       "              gamma=None, gpu_id=None, grow_policy=None, importance_type=None,\n",
       "              interaction_constraints=None, learning_rate=None, max_bin=None,\n",
       "              max_cat_threshold=None, max_cat_to_onehot=None,\n",
       "              max_delta_step=None, max_depth=None, max_leaves=None,\n",
       "              min_child_weight=None, missing=nan, monotone_constraints=None,\n",
       "              n_estimators=100, n_jobs=None, num_parallel_tree=None,\n",
       "              predictor=None, random_state=None, ...)</pre></div></div></div></div></div>"
      ],
      "text/plain": [
       "XGBClassifier(base_score=None, booster=None, callbacks=None,\n",
       "              colsample_bylevel=None, colsample_bynode=None,\n",
       "              colsample_bytree=None, early_stopping_rounds=None,\n",
       "              enable_categorical=False, eval_metric=None, feature_types=None,\n",
       "              gamma=None, gpu_id=None, grow_policy=None, importance_type=None,\n",
       "              interaction_constraints=None, learning_rate=None, max_bin=None,\n",
       "              max_cat_threshold=None, max_cat_to_onehot=None,\n",
       "              max_delta_step=None, max_depth=None, max_leaves=None,\n",
       "              min_child_weight=None, missing=nan, monotone_constraints=None,\n",
       "              n_estimators=100, n_jobs=None, num_parallel_tree=None,\n",
       "              predictor=None, random_state=None, ...)"
      ]
     },
     "execution_count": 133,
     "metadata": {},
     "output_type": "execute_result"
    }
   ],
   "source": [
    "xgb_clf.fit(X_train_trf,y_train)"
   ]
  },
  {
   "cell_type": "code",
   "execution_count": 134,
   "metadata": {},
   "outputs": [],
   "source": [
    "y_pred = xgb_clf.predict(X_val_trf)"
   ]
  },
  {
   "cell_type": "code",
   "execution_count": 135,
   "metadata": {},
   "outputs": [
    {
     "data": {
      "text/plain": [
       "99.46181879820324"
      ]
     },
     "execution_count": 135,
     "metadata": {},
     "output_type": "execute_result"
    }
   ],
   "source": [
    "accuracy_score(y_val, y_pred)*100"
   ]
  },
  {
   "cell_type": "code",
   "execution_count": 136,
   "metadata": {},
   "outputs": [
    {
     "name": "stdout",
     "output_type": "stream",
     "text": [
      "              precision    recall  f1-score   support\n",
      "\n",
      "           0       1.00      0.99      0.99     11932\n",
      "           1       0.99      1.00      0.99     11666\n",
      "\n",
      "    accuracy                           0.99     23598\n",
      "   macro avg       0.99      0.99      0.99     23598\n",
      "weighted avg       0.99      0.99      0.99     23598\n",
      "\n"
     ]
    }
   ],
   "source": [
    "print(classification_report(y_val, y_pred))"
   ]
  },
  {
   "cell_type": "code",
   "execution_count": 137,
   "metadata": {},
   "outputs": [
    {
     "data": {
      "text/plain": [
       "array([[11809,   123],\n",
       "       [    4, 11662]])"
      ]
     },
     "execution_count": 137,
     "metadata": {},
     "output_type": "execute_result"
    }
   ],
   "source": [
    "confusion_matrix(y_true=y_val, y_pred=y_pred)"
   ]
  },
  {
   "cell_type": "code",
   "execution_count": 138,
   "metadata": {},
   "outputs": [
    {
     "data": {
      "text/plain": [
       "3230"
      ]
     },
     "execution_count": 138,
     "metadata": {},
     "output_type": "execute_result"
    }
   ],
   "source": [
    "# Challenge Metrics\n",
    "# for cost value refer  aps_failure_description.txt\n",
    "\n",
    "cost = 123*10+4*500\n",
    "cost"
   ]
  },
  {
   "cell_type": "code",
   "execution_count": 139,
   "metadata": {},
   "outputs": [],
   "source": [
    "from sklearn.metrics import roc_curve, roc_auc_score"
   ]
  },
  {
   "cell_type": "code",
   "execution_count": 142,
   "metadata": {},
   "outputs": [
    {
     "data": {
      "text/plain": [
       "0.9946743544581073"
      ]
     },
     "execution_count": 142,
     "metadata": {},
     "output_type": "execute_result"
    }
   ],
   "source": [
    "auc = roc_auc_score(y_val,y_pred)\n",
    "auc"
   ]
  },
  {
   "cell_type": "code",
   "execution_count": 141,
   "metadata": {},
   "outputs": [],
   "source": [
    "fpr, tpr, thresholds  = roc_curve(y_val, y_pred)"
   ]
  },
  {
   "cell_type": "code",
   "execution_count": 143,
   "metadata": {},
   "outputs": [
    {
     "data": {
      "image/png": "[encoded data removed]",
      "text/plain": [
       "<Figure size 640x480 with 1 Axes>"
      ]
     },
     "metadata": {},
     "output_type": "display_data"
    }
   ],
   "source": [
    "plt.plot(fpr, tpr, color='orange', label='ROC')\n",
    "plt.plot([0, 1], [0, 1], color='darkblue', linestyle='--',label='ROC curve (area = %0.2f)' % auc)\n",
    "plt.xlabel('False Positive Rate')\n",
    "plt.ylabel('True Positive Rate')\n",
    "plt.title('Receiver Operating Characteristic (ROC) Curve')\n",
    "plt.legend()\n",
    "plt.show()"
   ]
  },
  {
   "attachments": {},
   "cell_type": "markdown",
   "metadata": {},
   "source": [
    "## Hyperparameter Tuning: XG-Boost"
   ]
  },
  {
   "attachments": {},
   "cell_type": "markdown",
   "metadata": {},
   "source": [
    "#### Bayesian Optimization with HYPEROPT\n",
    "\n",
    "- Bayesian optimization is optimization or finding the best parameter for a machine learning or deep learning algorithm.\n",
    "\n",
    "- Optimization is the process of finding a minimum of cost function , that determines an overall better performance of a model on both train-set and test-set.\n",
    "\n",
    "- In this process, we train the model with various possible range of parameters until a best fit model is obtained.\n",
    "\n",
    "- Hyperparameter tuning helps in determining the optimal tuned parameters and return the best fit model, which is the best practice to follow while building an ML or DL model.\n",
    "\n",
    "#### What is HYPEROPT \n",
    "\n",
    "- HYPEROPT is a powerful python library that search through an hyperparameter space of values and find the best possible values that yield the minimum of the loss function.\n",
    "\n",
    "- Bayesian Optimization technique uses Hyperopt to tune the model hyperparameters. Hyperopt is a Python library which is used to tune model hyperparameters.\n",
    "\n",
    "- More information on Hyperopt can be found at the following link:-\n",
    "\n",
    "- https://hyperopt.github.io/hyperopt/?source=post_page"
   ]
  },
  {
   "cell_type": "code",
   "execution_count": 147,
   "metadata": {},
   "outputs": [],
   "source": [
    "# import packages for hyperparameters tuning\n",
    "from hyperopt import STATUS_OK, Trials, fmin, hp, tpe"
   ]
  },
  {
   "cell_type": "code",
   "execution_count": 144,
   "metadata": {},
   "outputs": [],
   "source": [
    "from sklearn.model_selection import RandomizedSearchCV"
   ]
  },
  {
   "attachments": {},
   "cell_type": "markdown",
   "metadata": {},
   "source": [
    "##### The available hyperopt optimization algorithms are -\n",
    "\n",
    "- hp.choice(label, options) — Returns one of the options, which should be a list or tuple.\n",
    "\n",
    "- hp.randint(label, upper) — Returns a random integer between the range [0, upper).\n",
    "\n",
    "- hp.uniform(label, low, high) — Returns a value uniformly between low and high.\n",
    "\n",
    "- hp.quniform(label, low, high, q) — Returns a value round(uniform(low, high) / q) * q, i.e it rounds the decimal values and returns an integer.\n",
    "\n",
    "- hp.normal(label, mean, std) — Returns a real value that’s normally-distributed with mean and standard deviation sigma."
   ]
  },
  {
   "cell_type": "code",
   "execution_count": 150,
   "metadata": {},
   "outputs": [],
   "source": [
    "# Initialize domain space for range of values\n",
    "\n",
    "space = {'max_depth': hp.quniform(\"max_depth\", 3, 18, 1),\n",
    "        'gamma': hp.uniform ('gamma', 1,9),\n",
    "        'reg_alpha' : hp.quniform('reg_alpha', 40,180,1),\n",
    "        'reg_lambda' : hp.uniform('reg_lambda', 0,1),\n",
    "        'colsample_bytree' : hp.uniform('colsample_bytree', 0.5,1),\n",
    "        'min_child_weight' : hp.quniform('min_child_weight', 0, 10, 1),\n",
    "        'n_estimators': 180,\n",
    "        'seed': 0\n",
    "    }"
   ]
  },
  {
   "cell_type": "code",
   "execution_count": 151,
   "metadata": {},
   "outputs": [],
   "source": [
    "def objective(space):\n",
    "    clf = XGBClassifier(\n",
    "                        n_estimators =space['n_estimators'], max_depth = int(space['max_depth']), gamma = space['gamma'],\n",
    "                        reg_alpha = int(space['reg_alpha']),min_child_weight=int(space['min_child_weight']),\n",
    "                        colsample_bytree=int(space['colsample_bytree']))\n",
    "    \n",
    "    evaluation = [( X_train_trf, y_train), ( X_val_trf, y_val)]\n",
    "    \n",
    "    clf.fit(X_train_trf, y_train,\n",
    "            eval_set=evaluation, eval_metric=\"auc\",\n",
    "            early_stopping_rounds=10,verbose=False)\n",
    "    \n",
    "\n",
    "    pred = clf.predict(X_val_trf)\n",
    "    accuracy = accuracy_score(y_val, pred)\n",
    "    print (\"SCORE:\", accuracy)\n",
    "    return {'loss': -accuracy, 'status': STATUS_OK }"
   ]
  },
  {
   "cell_type": "code",
   "execution_count": 152,
   "metadata": {},
   "outputs": [
    {
     "name": "stdout",
     "output_type": "stream",
     "text": [
      "SCORE:                                                                                                                                          \n",
      "0.9521993389270277                                                                                                                              \n",
      "SCORE:                                                                                                                                          \n",
      "0.9505466564963132                                                                                                                              \n",
      "SCORE:                                                                                                                                          \n",
      "0.9519027036189508                                                                                                                              \n",
      "SCORE:                                                                                                                                          \n",
      "0.9560979744046105                                                                                                                              \n",
      "SCORE:                                                                                                                                          \n",
      "0.9516484447834562                                                                                                                              \n",
      "SCORE:                                                                                                                                          \n",
      "0.9502500211882363                                                                                                                              \n",
      "SCORE:                                                                                                                                          \n",
      "0.9500805152979066                                                                                                                              \n",
      "SCORE:                                                                                                                                          \n",
      "0.9508432918043902                                                                                                                              \n",
      "SCORE:                                                                                                                                          \n",
      "0.9556742096787864                                                                                                                              \n",
      "SCORE:                                                                                                                                          \n",
      "0.9531739977964234                                                                                                                              \n",
      "SCORE:                                                                                                                                          \n",
      "0.9505890329688956                                                                                                                              \n",
      "SCORE:                                                                                                                                          \n",
      "0.9524112212899398                                                                                                                              \n",
      "SCORE:                                                                                                                                          \n",
      "0.9533011272141707                                                                                                                              \n",
      "SCORE:                                                                                                                                          \n",
      "0.9579201627256547                                                                                                                              \n",
      "SCORE:                                                                                                                                          \n",
      "0.953428256631918                                                                                                                               \n",
      "SCORE:                                                                                                                                          \n",
      "0.9558437155691161                                                                                                                              \n",
      "SCORE:                                                                                                                                          \n",
      "0.9516060683108738                                                                                                                              \n",
      "SCORE:                                                                                                                                          \n",
      "0.9552504449529621                                                                                                                              \n",
      "SCORE:                                                                                                                                          \n",
      "0.9575387744724129                                                                                                                              \n",
      "SCORE:                                                                                                                                          \n",
      "0.9574116450546657                                                                                                                              \n",
      "SCORE:                                                                                                                                          \n",
      "0.9592762098482922                                                                                                                              \n",
      "SCORE:                                                                                                                                          \n",
      "0.9590643274853801                                                                                                                              \n",
      "SCORE:                                                                                                                                          \n",
      "0.9593609627934571                                                                                                                              \n",
      "SCORE:                                                                                                                                          \n",
      "0.9558437155691161                                                                                                                              \n",
      "SCORE:                                                                                                                                          \n",
      "0.9549538096448852                                                                                                                              \n",
      "SCORE:                                                                                                                                          \n",
      "0.9585134333418086                                                                                                                              \n",
      "SCORE:                                                                                                                                          \n",
      "0.9567336214933468                                                                                                                              \n",
      "SCORE:                                                                                                                                          \n",
      "0.9583015509788965                                                                                                                              \n",
      "SCORE:                                                                                                                                          \n",
      "0.9546571743368082                                                                                                                              \n",
      "SCORE:                                                                                                                                          \n",
      "0.9555047037884566                                                                                                                              \n",
      "SCORE:                                                                                                                                          \n",
      "0.9511823035850496                                                                                                                              \n",
      "SCORE:                                                                                                                                          \n",
      "0.9581320450885669                                                                                                                              \n",
      "SCORE:                                                                                                                                          \n",
      "0.9516060683108738                                                                                                                              \n",
      "SCORE:                                                                                                                                          \n",
      "0.952029833036698                                                                                                                               \n",
      "SCORE:                                                                                                                                          \n",
      "0.9568607509110941                                                                                                                              \n",
      "SCORE:                                                                                                                                          \n",
      "0.9559284685142808                                                                                                                              \n",
      "SCORE:                                                                                                                                          \n",
      "0.953131621323841                                                                                                                               \n",
      "SCORE:                                                                                                                                          \n",
      "0.9532163742690059                                                                                                                              \n",
      "SCORE:                                                                                                                                          \n",
      "0.9545300449190609                                                                                                                              \n",
      "SCORE:                                                                                                                                          \n",
      "0.957750656835325                                                                                                                               \n",
      "SCORE:                                                                                                                                          \n",
      "0.9509280447495551                                                                                                                              \n",
      "SCORE:                                                                                                                                          \n",
      "0.9580896686159844                                                                                                                              \n",
      "SCORE:                                                                                                                                          \n",
      "0.9524535977625223                                                                                                                              \n",
      "SCORE:                                                                                                                                          \n",
      "0.9521145859818628                                                                                                                              \n",
      "SCORE:                                                                                                                                          \n",
      "0.9558013390965336                                                                                                                              \n",
      "SCORE:                                                                                                                                          \n",
      "0.9571997626917536                                                                                                                              \n",
      "SCORE:                                                                                                                                          \n",
      "0.9529197389609289                                                                                                                              \n",
      "SCORE:                                                                                                                                          \n",
      "0.950122891770489                                                                                                                               \n",
      "SCORE:                                                                                                                                          \n",
      "0.9578777862530723                                                                                                                              \n",
      "SCORE:                                                                                                                                          \n",
      "0.9537248919399949                                                                                                                              \n",
      "SCORE:                                                                                                                                          \n",
      "0.9555894567336215                                                                                                                              \n",
      "SCORE:                                                                                                                                          \n",
      "0.9579201627256547                                                                                                                              \n",
      "SCORE:                                                                                                                                          \n",
      "0.9568183744385117                                                                                                                              \n",
      "SCORE:                                                                                                                                          \n",
      "0.9516484447834562                                                                                                                              \n",
      "SCORE:                                                                                                                                          \n",
      "0.9513518094753792                                                                                                                              \n",
      "SCORE:                                                                                                                                          \n",
      "0.9530468683786761                                                                                                                              \n",
      "SCORE:                                                                                                                                          \n",
      "0.9554623273158742                                                                                                                              \n",
      "SCORE:                                                                                                                                          \n",
      "0.9568607509110941                                                                                                                              \n",
      "SCORE:                                                                                                                                          \n",
      "0.9536825154674125                                                                                                                              \n",
      "SCORE:                                                                                                                                          \n",
      "0.9558013390965336                                                                                                                              \n",
      "SCORE:                                                                                                                                          \n",
      "0.958555809814391                                                                                                                               \n",
      "SCORE:                                                                                                                                          \n",
      "0.9582167980337317                                                                                                                              \n",
      "SCORE:                                                                                                                                          \n",
      "0.95503856259005                                                                                                                                \n",
      "SCORE:                                                                                                                                          \n",
      "0.950419527078566                                                                                                                               \n",
      "SCORE:                                                                                                                                          \n",
      "0.9541486566658192                                                                                                                              \n",
      "SCORE:                                                                                                                                          \n",
      "0.9583015509788965                                                                                                                              \n",
      "SCORE:                                                                                                                                          \n",
      "0.9570302568014238                                                                                                                              \n",
      "SCORE:                                                                                                                                          \n",
      "0.9575811509449953                                                                                                                              \n",
      "SCORE:                                                                                                                                          \n",
      "0.9587253157047207                                                                                                                              \n",
      "SCORE:                                                                                                                                          \n",
      "0.9562251038223578                                                                                                                              \n",
      "SCORE:                                                                                                                                          \n",
      "0.9592762098482922                                                                                                                              \n",
      "SCORE:                                                                                                                                          \n",
      "0.9566912450207645                                                                                                                              \n",
      "SCORE:                                                                                                                                          \n",
      "0.9569878803288414                                                                                                                              \n",
      "SCORE:                                                                                                                                          \n",
      "0.9587253157047207                                                                                                                              \n",
      "SCORE:                                                                                                                                          \n",
      "0.957750656835325                                                                                                                               \n",
      "SCORE:                                                                                                                                          \n",
      "0.9584286803966438                                                                                                                              \n",
      "SCORE:                                                                                                                                          \n",
      "0.9556318332062039                                                                                                                              \n",
      "SCORE:                                                                                                                                          \n",
      "0.9561827273497754                                                                                                                              \n",
      "SCORE:                                                                                                                                          \n",
      "0.9540639037206543                                                                                                                              \n",
      "SCORE:                                                                                                                                          \n",
      "0.9566064920755997                                                                                                                              \n",
      "SCORE:                                                                                                                                          \n",
      "0.9560132214594457                                                                                                                              \n",
      "SCORE:                                                                                                                                          \n",
      "0.9578777862530723                                                                                                                              \n",
      "SCORE:                                                                                                                                          \n",
      "0.952029833036698                                                                                                                               \n",
      "SCORE:                                                                                                                                          \n",
      "0.9547843037545555                                                                                                                              \n",
      "SCORE:                                                                                                                                          \n",
      "0.9574540215272481                                                                                                                              \n",
      "SCORE:                                                                                                                                          \n",
      "0.9543181625561489                                                                                                                              \n",
      "SCORE:                                                                                                                                          \n",
      "0.9578777862530723                                                                                                                              \n",
      "SCORE:                                                                                                                                          \n",
      "0.9527078565980168                                                                                                                              \n",
      "SCORE:                                                                                                                                          \n",
      "0.9563522332401051                                                                                                                              \n",
      "SCORE:                                                                                                                                          \n",
      "0.9580049156708196                                                                                                                              \n",
      "SCORE:                                                                                                                                          \n",
      "0.9535130095770828                                                                                                                              \n",
      "SCORE:                                                                                                                                          \n",
      "0.9552928214255445                                                                                                                              \n",
      "SCORE:                                                                                                                                          \n",
      "0.9518603271463684                                                                                                                              \n",
      "SCORE:                                                                                                                                          \n",
      "0.9571573862191711                                                                                                                              \n",
      "SCORE:                                                                                                                                          \n",
      "0.9583015509788965                                                                                                                              \n",
      "SCORE:                                                                                                                                          \n",
      "0.9505466564963132                                                                                                                              \n",
      "SCORE:                                                                                                                                          \n",
      "0.9548266802271379                                                                                                                              \n",
      "SCORE:                                                                                                                                          \n",
      "0.9573268921095008                                                                                                                              \n",
      "SCORE:                                                                                                                                          \n",
      "0.9538943978303246                                                                                                                              \n",
      "SCORE:                                                                                                                                          \n",
      "0.9566912450207645                                                                                                                              \n",
      "100%|██████████████████████████████████████████████████████████████████████| 100/100 [07:13<00:00,  4.33s/trial, best loss: -0.9593609627934571]\n"
     ]
    }
   ],
   "source": [
    "trials = Trials()\n",
    "\n",
    "best_hyperparams = fmin(fn = objective,\n",
    "                        space = space,\n",
    "                        algo = tpe.suggest,\n",
    "                        max_evals = 100,\n",
    "                        trials = trials)"
   ]
  },
  {
   "cell_type": "code",
   "execution_count": 153,
   "metadata": {},
   "outputs": [
    {
     "name": "stdout",
     "output_type": "stream",
     "text": [
      "The best hyperparameters are :  \n",
      "\n",
      "{'colsample_bytree': 0.5517075347844577, 'gamma': 1.149710977247239, 'max_depth': 18.0, 'min_child_weight': 7.0, 'reg_alpha': 40.0, 'reg_lambda': 0.026709331943943156}\n"
     ]
    }
   ],
   "source": [
    "print(\"The best hyperparameters are : \",\"\\n\")\n",
    "print(best_hyperparams)"
   ]
  },
  {
   "attachments": {},
   "cell_type": "markdown",
   "metadata": {},
   "source": [
    "#### Let's make new xg-boost model using best hyperparameters"
   ]
  },
  {
   "cell_type": "code",
   "execution_count": 159,
   "metadata": {},
   "outputs": [],
   "source": [
    "xgb_clf_best_params = XGBClassifier(colsample_bytree=0.5517075347844577,\n",
    "                                    gamma=1.149710977247239,\n",
    "                                    max_depth=18,\n",
    "                                    min_child_weight=7.0,\n",
    "                                    reg_alpha=40.0,\n",
    "                                    reg_lambda=0.026709331943943156,\n",
    "                                    n_estimators=180,\n",
    "                                    seed=0,\n",
    "                                    booster='gbtree')"
   ]
  },
  {
   "cell_type": "code",
   "execution_count": 160,
   "metadata": {},
   "outputs": [
    {
     "data": {
      "text/html": [
       "<style>#sk-container-id-7 {color: black;background-color: white;}#sk-container-id-7 pre{padding: 0;}#sk-container-id-7 div.sk-toggleable {background-color: white;}#sk-container-id-7 label.sk-toggleable__label {cursor: pointer;display: block;width: 100%;margin-bottom: 0;padding: 0.3em;box-sizing: border-box;text-align: center;}#sk-container-id-7 label.sk-toggleable__label-arrow:before {content: \"▸\";float: left;margin-right: 0.25em;color: #696969;}#sk-container-id-7 label.sk-toggleable__label-arrow:hover:before {color: black;}#sk-container-id-7 div.sk-estimator:hover label.sk-toggleable__label-arrow:before {color: black;}#sk-container-id-7 div.sk-toggleable__content {max-height: 0;max-width: 0;overflow: hidden;text-align: left;background-color: #f0f8ff;}#sk-container-id-7 div.sk-toggleable__content pre {margin: 0.2em;color: black;border-radius: 0.25em;background-color: #f0f8ff;}#sk-container-id-7 input.sk-toggleable__control:checked~div.sk-toggleable__content {max-height: 200px;max-width: 100%;overflow: auto;}#sk-container-id-7 input.sk-toggleable__control:checked~label.sk-toggleable__label-arrow:before {content: \"▾\";}#sk-container-id-7 div.sk-estimator input.sk-toggleable__control:checked~label.sk-toggleable__label {background-color: #d4ebff;}#sk-container-id-7 div.sk-label input.sk-toggleable__control:checked~label.sk-toggleable__label {background-color: #d4ebff;}#sk-container-id-7 input.sk-hidden--visually {border: 0;clip: rect(1px 1px 1px 1px);clip: rect(1px, 1px, 1px, 1px);height: 1px;margin: -1px;overflow: hidden;padding: 0;position: absolute;width: 1px;}#sk-container-id-7 div.sk-estimator {font-family: monospace;background-color: #f0f8ff;border: 1px dotted black;border-radius: 0.25em;box-sizing: border-box;margin-bottom: 0.5em;}#sk-container-id-7 div.sk-estimator:hover {background-color: #d4ebff;}#sk-container-id-7 div.sk-parallel-item::after {content: \"\";width: 100%;border-bottom: 1px solid gray;flex-grow: 1;}#sk-container-id-7 div.sk-label:hover label.sk-toggleable__label {background-color: #d4ebff;}#sk-container-id-7 div.sk-serial::before {content: \"\";position: absolute;border-left: 1px solid gray;box-sizing: border-box;top: 0;bottom: 0;left: 50%;z-index: 0;}#sk-container-id-7 div.sk-serial {display: flex;flex-direction: column;align-items: center;background-color: white;padding-right: 0.2em;padding-left: 0.2em;position: relative;}#sk-container-id-7 div.sk-item {position: relative;z-index: 1;}#sk-container-id-7 div.sk-parallel {display: flex;align-items: stretch;justify-content: center;background-color: white;position: relative;}#sk-container-id-7 div.sk-item::before, #sk-container-id-7 div.sk-parallel-item::before {content: \"\";position: absolute;border-left: 1px solid gray;box-sizing: border-box;top: 0;bottom: 0;left: 50%;z-index: -1;}#sk-container-id-7 div.sk-parallel-item {display: flex;flex-direction: column;z-index: 1;position: relative;background-color: white;}#sk-container-id-7 div.sk-parallel-item:first-child::after {align-self: flex-end;width: 50%;}#sk-container-id-7 div.sk-parallel-item:last-child::after {align-self: flex-start;width: 50%;}#sk-container-id-7 div.sk-parallel-item:only-child::after {width: 0;}#sk-container-id-7 div.sk-dashed-wrapped {border: 1px dashed gray;margin: 0 0.4em 0.5em 0.4em;box-sizing: border-box;padding-bottom: 0.4em;background-color: white;}#sk-container-id-7 div.sk-label label {font-family: monospace;font-weight: bold;display: inline-block;line-height: 1.2em;}#sk-container-id-7 div.sk-label-container {text-align: center;}#sk-container-id-7 div.sk-container {/* jupyter's `normalize.less` sets `[hidden] { display: none; }` but bootstrap.min.css set `[hidden] { display: none !important; }` so we also need the `!important` here to be able to override the default hidden behavior on the sphinx rendered scikit-learn.org. See: https://github.com/scikit-learn/scikit-learn/issues/21755 */display: inline-block !important;position: relative;}#sk-container-id-7 div.sk-text-repr-fallback {display: none;}</style><div id=\"sk-container-id-7\" class=\"sk-top-container\"><div class=\"sk-text-repr-fallback\"><pre>XGBClassifier(base_score=None, booster=&#x27;gbtree&#x27;, callbacks=None,\n",
       "              colsample_bylevel=None, colsample_bynode=None,\n",
       "              colsample_bytree=0.5517075347844577, early_stopping_rounds=None,\n",
       "              enable_categorical=False, eval_metric=None, feature_types=None,\n",
       "              gamma=1.149710977247239, gpu_id=None, grow_policy=None,\n",
       "              importance_type=None, interaction_constraints=None,\n",
       "              learning_rate=None, max_bin=None, max_cat_threshold=None,\n",
       "              max_cat_to_onehot=None, max_delta_step=None, max_depth=18,\n",
       "              max_leaves=None, min_child_weight=7.0, missing=nan,\n",
       "              monotone_constraints=None, n_estimators=180, n_jobs=None,\n",
       "              num_parallel_tree=None, predictor=None, random_state=None, ...)</pre><b>In a Jupyter environment, please rerun this cell to show the HTML representation or trust the notebook. <br />On GitHub, the HTML representation is unable to render, please try loading this page with nbviewer.org.</b></div><div class=\"sk-container\" hidden><div class=\"sk-item\"><div class=\"sk-estimator sk-toggleable\"><input class=\"sk-toggleable__control sk-hidden--visually\" id=\"sk-estimator-id-7\" type=\"checkbox\" checked><label for=\"sk-estimator-id-7\" class=\"sk-toggleable__label sk-toggleable__label-arrow\">XGBClassifier</label><div class=\"sk-toggleable__content\"><pre>XGBClassifier(base_score=None, booster=&#x27;gbtree&#x27;, callbacks=None,\n",
       "              colsample_bylevel=None, colsample_bynode=None,\n",
       "              colsample_bytree=0.5517075347844577, early_stopping_rounds=None,\n",
       "              enable_categorical=False, eval_metric=None, feature_types=None,\n",
       "              gamma=1.149710977247239, gpu_id=None, grow_policy=None,\n",
       "              importance_type=None, interaction_constraints=None,\n",
       "              learning_rate=None, max_bin=None, max_cat_threshold=None,\n",
       "              max_cat_to_onehot=None, max_delta_step=None, max_depth=18,\n",
       "              max_leaves=None, min_child_weight=7.0, missing=nan,\n",
       "              monotone_constraints=None, n_estimators=180, n_jobs=None,\n",
       "              num_parallel_tree=None, predictor=None, random_state=None, ...)</pre></div></div></div></div></div>"
      ],
      "text/plain": [
       "XGBClassifier(base_score=None, booster='gbtree', callbacks=None,\n",
       "              colsample_bylevel=None, colsample_bynode=None,\n",
       "              colsample_bytree=0.5517075347844577, early_stopping_rounds=None,\n",
       "              enable_categorical=False, eval_metric=None, feature_types=None,\n",
       "              gamma=1.149710977247239, gpu_id=None, grow_policy=None,\n",
       "              importance_type=None, interaction_constraints=None,\n",
       "              learning_rate=None, max_bin=None, max_cat_threshold=None,\n",
       "              max_cat_to_onehot=None, max_delta_step=None, max_depth=18,\n",
       "              max_leaves=None, min_child_weight=7.0, missing=nan,\n",
       "              monotone_constraints=None, n_estimators=180, n_jobs=None,\n",
       "              num_parallel_tree=None, predictor=None, random_state=None, ...)"
      ]
     },
     "execution_count": 160,
     "metadata": {},
     "output_type": "execute_result"
    }
   ],
   "source": [
    "xgb_clf_best_params.fit(X_train_trf,y_train)"
   ]
  },
  {
   "cell_type": "code",
   "execution_count": 161,
   "metadata": {},
   "outputs": [],
   "source": [
    "y_pred = xgb_clf_best_params.predict(X_val_trf)"
   ]
  },
  {
   "cell_type": "code",
   "execution_count": 162,
   "metadata": {},
   "outputs": [
    {
     "data": {
      "text/plain": [
       "98.80922112043393"
      ]
     },
     "execution_count": 162,
     "metadata": {},
     "output_type": "execute_result"
    }
   ],
   "source": [
    "accuracy_score(y_val, y_pred)*100"
   ]
  },
  {
   "cell_type": "code",
   "execution_count": 163,
   "metadata": {},
   "outputs": [
    {
     "name": "stdout",
     "output_type": "stream",
     "text": [
      "              precision    recall  f1-score   support\n",
      "\n",
      "           0       1.00      0.98      0.99     11932\n",
      "           1       0.98      1.00      0.99     11666\n",
      "\n",
      "    accuracy                           0.99     23598\n",
      "   macro avg       0.99      0.99      0.99     23598\n",
      "weighted avg       0.99      0.99      0.99     23598\n",
      "\n"
     ]
    }
   ],
   "source": [
    "print(classification_report(y_val, y_pred))"
   ]
  },
  {
   "cell_type": "code",
   "execution_count": 164,
   "metadata": {},
   "outputs": [
    {
     "data": {
      "text/plain": [
       "array([[11703,   229],\n",
       "       [   52, 11614]])"
      ]
     },
     "execution_count": 164,
     "metadata": {},
     "output_type": "execute_result"
    }
   ],
   "source": [
    "confusion_matrix(y_true=y_val, y_pred=y_pred)"
   ]
  },
  {
   "cell_type": "code",
   "execution_count": 165,
   "metadata": {},
   "outputs": [
    {
     "data": {
      "text/plain": [
       "28290"
      ]
     },
     "execution_count": 165,
     "metadata": {},
     "output_type": "execute_result"
    }
   ],
   "source": [
    "# Challenge Metrics\n",
    "# for cost value refer  aps_failure_description.txt\n",
    "\n",
    "cost = 229*10+52*500\n",
    "cost"
   ]
  },
  {
   "attachments": {},
   "cell_type": "markdown",
   "metadata": {},
   "source": [
    "- xg-boost before hyperparameter tuning is performing better with least cost.\n",
    "- saving the model..."
   ]
  },
  {
   "attachments": {},
   "cell_type": "markdown",
   "metadata": {},
   "source": [
    "#### Save the model and processed data to disk"
   ]
  },
  {
   "cell_type": "code",
   "execution_count": 168,
   "metadata": {},
   "outputs": [],
   "source": [
    "import pickle\n",
    "\n",
    "filename = 'xgb_finalized_model.sav'\n",
    "pickle.dump(xgb_clf, open(f\"saved_models/{filename}\", 'wb'))"
   ]
  },
  {
   "cell_type": "code",
   "execution_count": 169,
   "metadata": {},
   "outputs": [],
   "source": [
    "filename = 'xgb_tuned_finalized_model.sav'\n",
    "pickle.dump(xgb_clf_best_params, open(f\"saved_models/{filename}\", 'wb'))"
   ]
  },
  {
   "cell_type": "code",
   "execution_count": null,
   "metadata": {},
   "outputs": [],
   "source": [
    "# load the model from disk\n",
    "# loaded_model = pickle.load(open(filename, 'rb'))"
   ]
  },
  {
   "cell_type": "code",
   "execution_count": 176,
   "metadata": {},
   "outputs": [],
   "source": [
    "X.to_csv(\"artifacts/processed_data_dir/processed_X.csv\")\n",
    "Y.to_csv(\"artifacts/processed_data_dir/processed_Y.csv\")"
   ]
  },
  {
   "cell_type": "code",
   "execution_count": null,
   "metadata": {},
   "outputs": [],
   "source": []
  }
 ],
 "metadata": {
  "kernelspec": {
   "display_name": "Python 3 (ipykernel)",
   "language": "python",
   "name": "python3"
  },
  "language_info": {
   "codemirror_mode": {
    "name": "ipython",
    "version": 3
   },
   "file_extension": ".py",
   "mimetype": "text/x-python",
   "name": "python",
   "nbconvert_exporter": "python",
   "pygments_lexer": "ipython3",
   "version": "3.10.0"
  },
  "orig_nbformat": 4,
  "vscode": {
   "interpreter": {
    "hash": "50f8dd74cc40c30add0364a5e42ab7936880a434e050a160fd5f8c0247cbf175"
   }
  }
 },
 "nbformat": 4,
 "nbformat_minor": 2
}
